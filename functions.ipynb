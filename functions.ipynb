{
 "cells": [
  {
   "cell_type": "markdown",
   "metadata": {},
   "source": [
    "syntax\n",
    "-----\n",
    "def fun_name([parameters]): #dosent mean list, here it means optional\n",
    "    statement 1\n",
    "    statement 2\n",
    "    ....\n",
    "    statement n\n",
    "    [return expression]\n",
    "-----\n",
    "\n",
    "example\n",
    "\n",
    "def area(width, height):\n",
    "    a = width * height\n",
    "    return a"
   ]
  },
  {
   "cell_type": "markdown",
   "metadata": {},
   "source": [
    "- based on parameter and return value\n",
    " 1. no parameter, no return value\n",
    " 2. no parameter, return value\n",
    " 3. parameter, no return value\n",
    " 4. parameter, return value\n",
    "- based on parameter type\n",
    "1. required parameter\n",
    "2. keyword parameter\n",
    "3. default parameter\n",
    "4. variable length parameter (*args)\n",
    "5. variable keyword arguments (**kwargs)\n",
    "- other types of function\n",
    "1. lambda function\n",
    "2. generator function\n",
    "3. recursive function\n"
   ]
  },
  {
   "cell_type": "code",
   "execution_count": 3,
   "metadata": {},
   "outputs": [
    {
     "name": "stdout",
     "output_type": "stream",
     "text": [
      "area is 42\n",
      "21.0\n"
     ]
    }
   ],
   "source": [
    "# value returning function\n",
    "def area():\n",
    "    l = int(input(\"Enter length\"))\n",
    "    b = int(input(\"Enter breadth\"))\n",
    "    return l*b # functions return karne hote hain\n",
    "ans = area()\n",
    "print(f'area is {ans}')\n",
    "half_ans = ans/2\n",
    "print(half_ans)"
   ]
  },
  {
   "cell_type": "code",
   "execution_count": 7,
   "metadata": {},
   "outputs": [
    {
     "name": "stdout",
     "output_type": "stream",
     "text": [
      "si 90.0\n",
      "amt 1090.0\n"
     ]
    }
   ],
   "source": [
    "def math():\n",
    "    p = int(input(\"Enter the principle:\"))\n",
    "    r = int(input(\"Enter the rate:\"))\n",
    "    t = int(input(\"Enter the time:\"))\n",
    "    si = p*r*t/100\n",
    "    amt = p + si\n",
    "    return si, amt\n",
    "result = math()\n",
    "print('si', result[0])\n",
    "print('amt', result[1])"
   ]
  },
  {
   "cell_type": "code",
   "execution_count": 5,
   "metadata": {},
   "outputs": [
    {
     "name": "stdout",
     "output_type": "stream",
     "text": [
      "60.0 1060.0\n"
     ]
    }
   ],
   "source": [
    "si, amount = math()\n",
    "print(si, amount)"
   ]
  },
  {
   "cell_type": "code",
   "execution_count": 9,
   "metadata": {},
   "outputs": [
    {
     "name": "stdout",
     "output_type": "stream",
     "text": [
      "False\n"
     ]
    }
   ],
   "source": [
    "def is_armstrong(number):\n",
    "    t = number\n",
    "    s = 0 # sum\n",
    "    pow = len(str(number))\n",
    "    while number > 0:\n",
    "        r = number % 10\n",
    "        s += r ** pow\n",
    "        number //= 10\n",
    "    return t == s\n",
    "x = int(input('enter a number:'))\n",
    "print(is_armstrong(x))"
   ]
  },
  {
   "cell_type": "code",
   "execution_count": 10,
   "metadata": {},
   "outputs": [
    {
     "name": "stdout",
     "output_type": "stream",
     "text": [
      "153\n",
      "370\n",
      "371\n",
      "407\n",
      "1634\n",
      "8208\n",
      "9474\n",
      "54748\n",
      "92727\n",
      "93084\n",
      "548834\n",
      "1741725\n",
      "4210818\n",
      "9800817\n",
      "9926315\n"
     ]
    }
   ],
   "source": [
    "for i in range(100,9999):\n",
    "    if is_armstrong(i):\n",
    "        print(i)"
   ]
  },
  {
   "cell_type": "code",
   "execution_count": 11,
   "metadata": {},
   "outputs": [
    {
     "name": "stdout",
     "output_type": "stream",
     "text": [
      "12\n"
     ]
    }
   ],
   "source": [
    "def adder(a, b, c):\n",
    "    return a+ b+ c\n",
    "print(adder(5,2,5))"
   ]
  },
  {
   "cell_type": "code",
   "execution_count": 16,
   "metadata": {},
   "outputs": [
    {
     "name": "stdout",
     "output_type": "stream",
     "text": [
      "11\n",
      "17\n",
      "18\n",
      "18\n"
     ]
    }
   ],
   "source": [
    "print(adder(a = 4, b = 2, c = 5)) # keyword arguments\n",
    "print(adder( b = 2, c = 5, a = 10))\n",
    "print(adder(10, b =5, c= 3))\n",
    "print(adder(10, 5, c= 3))"
   ]
  },
  {
   "cell_type": "code",
   "execution_count": 17,
   "metadata": {},
   "outputs": [
    {
     "name": "stdout",
     "output_type": "stream",
     "text": [
      "1\n",
      "2\n",
      "3\n",
      "4\n"
     ]
    }
   ],
   "source": [
    "print(1,2,3,4, sep = '\\n') # sep here is optional argument"
   ]
  },
  {
   "cell_type": "code",
   "execution_count": 18,
   "metadata": {},
   "outputs": [],
   "source": [
    "def multiplier(a, b, c=1):\n",
    "    return a*b*c"
   ]
  },
  {
   "cell_type": "code",
   "execution_count": 21,
   "metadata": {},
   "outputs": [
    {
     "name": "stdout",
     "output_type": "stream",
     "text": [
      "6\n",
      "60\n",
      "30\n"
     ]
    }
   ],
   "source": [
    "print(multiplier(2,3))\n",
    "print(multiplier(2,3,10))\n",
    "print(multiplier(2,3, c= 5))"
   ]
  },
  {
   "cell_type": "code",
   "execution_count": 26,
   "metadata": {},
   "outputs": [],
   "source": [
    "from string import punctuation\n",
    "def cleaner(data, chars = None):\n",
    "    if chars is None:\n",
    "        chars = punctuation\n",
    "    for c in chars:\n",
    "        data = data.replace(c, '')\n",
    "    return data"
   ]
  },
  {
   "cell_type": "code",
   "execution_count": 27,
   "metadata": {},
   "outputs": [
    {
     "data": {
      "text/plain": [
       "'hello'"
      ]
     },
     "execution_count": 27,
     "metadata": {},
     "output_type": "execute_result"
    }
   ],
   "source": [
    "cleaner('he*&^%$#@ll&*&^*(())o') # default arguments"
   ]
  },
  {
   "cell_type": "code",
   "execution_count": 28,
   "metadata": {},
   "outputs": [
    {
     "data": {
      "text/plain": [
       "'he3ggj'"
      ]
     },
     "execution_count": 28,
     "metadata": {},
     "output_type": "execute_result"
    }
   ],
   "source": [
    "cleaner('he(*&#^#%&3)ggj', '()*&^%$#@!')"
   ]
  },
  {
   "cell_type": "code",
   "execution_count": 29,
   "metadata": {},
   "outputs": [
    {
     "name": "stdout",
     "output_type": "stream",
     "text": [
      "!\"#$%&'()*+,-./:;<=>?@[\\]^_`{|}~\n"
     ]
    }
   ],
   "source": [
    "print(punctuation)"
   ]
  },
  {
   "cell_type": "code",
   "execution_count": 30,
   "metadata": {},
   "outputs": [],
   "source": [
    "def multiplier(*nums): #variable arguments|\n",
    "    result = 1\n",
    "    for num in nums:\n",
    "        result *= num\n",
    "    return result"
   ]
  },
  {
   "cell_type": "code",
   "execution_count": 31,
   "metadata": {},
   "outputs": [
    {
     "name": "stdout",
     "output_type": "stream",
     "text": [
      "1\n",
      "2\n",
      "126360\n",
      "322560\n"
     ]
    }
   ],
   "source": [
    "print(multiplier())\n",
    "print(multiplier(2))\n",
    "print(multiplier(2,3,5,6,78,9))\n",
    "print(multiplier(2,3,4,5,6,7,8,8))"
   ]
  },
  {
   "cell_type": "code",
   "execution_count": 32,
   "metadata": {},
   "outputs": [],
   "source": [
    "def aggregator(*x, action = 'sum'):\n",
    "    if action == 'sum':\n",
    "        return sum(x)\n",
    "    elif action == 'count':\n",
    "        return len(x)\n",
    "    elif action == 'mean':\n",
    "        return sum(x) / len(x)\n",
    "    else:\n",
    "        raise ValueError('Invalid action')"
   ]
  },
  {
   "cell_type": "code",
   "execution_count": 33,
   "metadata": {},
   "outputs": [
    {
     "data": {
      "text/plain": [
       "3.5454545454545454"
      ]
     },
     "execution_count": 33,
     "metadata": {},
     "output_type": "execute_result"
    }
   ],
   "source": [
    "aggregator(1,2,3,4,5,6,4,3,2,4,5, action ='mean')"
   ]
  },
  {
   "cell_type": "code",
   "execution_count": 1,
   "metadata": {},
   "outputs": [],
   "source": [
    "#variable arguments\n",
    "def sorter(*data, type = 'number'): #data in single astrick is tupple \n",
    "    if type == 'number':\n",
    "        clean_data = []\n",
    "        for i in data:\n",
    "            if isinstance(i, int) or isinstance(i, float):\n",
    "                clean_data.append(i)\n",
    "        clean_data.sort()\n",
    "        return clean_data\n",
    "    else:\n",
    "        return None"
   ]
  },
  {
   "cell_type": "code",
   "execution_count": 2,
   "metadata": {},
   "outputs": [
    {
     "data": {
      "text/plain": [
       "[4, 5, 8, 99]"
      ]
     },
     "execution_count": 2,
     "metadata": {},
     "output_type": "execute_result"
    }
   ],
   "source": [
    "sorter(5,4,8,99)"
   ]
  },
  {
   "cell_type": "code",
   "execution_count": 3,
   "metadata": {},
   "outputs": [
    {
     "data": {
      "text/plain": [
       "[2, 3, 4, 5, 12, 45]"
      ]
     },
     "execution_count": 3,
     "metadata": {},
     "output_type": "execute_result"
    }
   ],
   "source": [
    "sorter(12,45,'a','b',3,2,4,5)"
   ]
  },
  {
   "cell_type": "code",
   "execution_count": 4,
   "metadata": {},
   "outputs": [],
   "source": [
    "def display_data(**data):\n",
    "    print(\"Your data:\")\n",
    "    total = 0\n",
    "    for k, v in data.items():\n",
    "        print(f'{k:10}{v}')\n",
    "        total += v\n",
    "    print('-'*20)\n",
    "    print(f'Total: Rs.{total}')\n",
    "    print('-'*20)"
   ]
  },
  {
   "cell_type": "code",
   "execution_count": 5,
   "metadata": {},
   "outputs": [
    {
     "name": "stdout",
     "output_type": "stream",
     "text": [
      "Your data:\n",
      "dahi      50\n",
      "medicine  1200\n",
      "tshirt    250\n",
      "fruits    100\n",
      "--------------------\n",
      "Total: Rs.1600\n",
      "--------------------\n"
     ]
    }
   ],
   "source": [
    "display_data(dahi= 50, medicine= 1200, tshirt= 250, fruits= 100)"
   ]
  },
  {
   "cell_type": "code",
   "execution_count": 6,
   "metadata": {},
   "outputs": [
    {
     "name": "stdout",
     "output_type": "stream",
     "text": [
      "210\n",
      "60\n",
      "26\n"
     ]
    }
   ],
   "source": [
    "f = lambda x : x**2 + x*10 + x #anonymous function ko ek line mein laata hai\n",
    "print(f(10))\n",
    "print(f(4))\n",
    "print(f(2))\n"
   ]
  },
  {
   "cell_type": "code",
   "execution_count": 7,
   "metadata": {},
   "outputs": [
    {
     "name": "stdout",
     "output_type": "stream",
     "text": [
      "18\n",
      "708\n",
      "156\n"
     ]
    }
   ],
   "source": [
    "g = lambda x,y : x**3 + y**4 + x*y - 1\n",
    "print(g(1,2))\n",
    "print(g(4,5))\n",
    "print(g(4,3))"
   ]
  },
  {
   "cell_type": "code",
   "execution_count": 12,
   "metadata": {},
   "outputs": [
    {
     "name": "stdout",
     "output_type": "stream",
     "text": [
      "5.0\n"
     ]
    }
   ],
   "source": [
    "x = lambda p,b : (p**2 + b**2) ** 0.5\n",
    "print(x(3,4))"
   ]
  },
  {
   "cell_type": "markdown",
   "metadata": {},
   "source": [
    "MAP : list of data -> operation -> new list of data\n",
    "\n",
    "FILTER : list of data -> condition -> new list of data "
   ]
  },
  {
   "cell_type": "code",
   "execution_count": 13,
   "metadata": {},
   "outputs": [
    {
     "name": "stdout",
     "output_type": "stream",
     "text": [
      "[27, 27, 64, 125, 27, 125, 216, 343, 512, 512, 729]\n"
     ]
    }
   ],
   "source": [
    "x = [3,3,4,5,3,5,6,7,8,8,9]\n",
    "x3 = list(map(lambda i : i**3, x))\n",
    "print(x3)"
   ]
  },
  {
   "cell_type": "code",
   "execution_count": 14,
   "metadata": {},
   "outputs": [
    {
     "name": "stdout",
     "output_type": "stream",
     "text": [
      "{64, 512, 343, 216, 729, 27, 125}\n"
     ]
    }
   ],
   "source": [
    "x = [3,3,4,5,3,5,6,7,8,8,9]\n",
    "x3 = set(map(lambda i : i**3, x))\n",
    "print(x3)"
   ]
  },
  {
   "cell_type": "code",
   "execution_count": 15,
   "metadata": {},
   "outputs": [
    {
     "name": "stdout",
     "output_type": "stream",
     "text": [
      "[12, 15, 24, 35, 24, 45]\n"
     ]
    }
   ],
   "source": [
    "x = [3,3,4,5,3,5]\n",
    "y = [4,5,6,7,8,9]\n",
    "x3 = list(map(lambda i,j : i*j, x,y))\n",
    "print(x3)"
   ]
  },
  {
   "cell_type": "code",
   "execution_count": 17,
   "metadata": {},
   "outputs": [
    {
     "name": "stdout",
     "output_type": "stream",
     "text": [
      "(1.0, 2.0, 3.0, 4.0, 5.0)\n"
     ]
    }
   ],
   "source": [
    "x = [1,4,9,16,25]\n",
    "x3 = tuple(map(lambda i : i**0.5, x))\n",
    "print(x3)"
   ]
  },
  {
   "cell_type": "code",
   "execution_count": 19,
   "metadata": {},
   "outputs": [
    {
     "name": "stdout",
     "output_type": "stream",
     "text": [
      "[1, 3, 5, 7, 9]\n"
     ]
    }
   ],
   "source": [
    "a = [1,2,3,4,5,6,7,8,9]\n",
    "b = list(filter(lambda i: i%2==1, a))\n",
    "print(b)"
   ]
  },
  {
   "cell_type": "code",
   "execution_count": 20,
   "metadata": {},
   "outputs": [],
   "source": [
    "from random import randint"
   ]
  },
  {
   "cell_type": "code",
   "execution_count": 21,
   "metadata": {},
   "outputs": [],
   "source": [
    "def random_range(s,e,size = 10):\n",
    "    for i in range(size):\n",
    "        yield randint(s,e)"
   ]
  },
  {
   "cell_type": "code",
   "execution_count": 23,
   "metadata": {},
   "outputs": [
    {
     "name": "stdout",
     "output_type": "stream",
     "text": [
      "72 30 3 34 48 8 36 97 80 66 31 70 44 30 9 "
     ]
    }
   ],
   "source": [
    "for i in random_range(1,100,15):\n",
    "    print(i, end =' ')"
   ]
  },
  {
   "cell_type": "code",
   "execution_count": null,
   "metadata": {},
   "outputs": [],
   "source": []
  }
 ],
 "metadata": {
  "kernelspec": {
   "display_name": "base",
   "language": "python",
   "name": "python3"
  },
  "language_info": {
   "codemirror_mode": {
    "name": "ipython",
    "version": 3
   },
   "file_extension": ".py",
   "mimetype": "text/x-python",
   "name": "python",
   "nbconvert_exporter": "python",
   "pygments_lexer": "ipython3",
   "version": "3.10.10"
  },
  "orig_nbformat": 4
 },
 "nbformat": 4,
 "nbformat_minor": 2
}
