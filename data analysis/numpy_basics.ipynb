{
 "cells": [
  {
   "cell_type": "markdown",
   "metadata": {},
   "source": [
    "importing"
   ]
  },
  {
   "cell_type": "code",
   "execution_count": 14,
   "metadata": {},
   "outputs": [],
   "source": [
    "import numpy as np"
   ]
  },
  {
   "cell_type": "code",
   "execution_count": 15,
   "metadata": {},
   "outputs": [],
   "source": [
    "# set precision\n",
    "np.set_printoptions(precision= 2)"
   ]
  },
  {
   "cell_type": "markdown",
   "metadata": {},
   "source": [
    "creating matrix"
   ]
  },
  {
   "cell_type": "code",
   "execution_count": 16,
   "metadata": {},
   "outputs": [
    {
     "name": "stdout",
     "output_type": "stream",
     "text": [
      "[2 5 6]\n",
      "(3,)\n",
      "int32\n"
     ]
    }
   ],
   "source": [
    "a = np.array([2,5,6])\n",
    "print(a)\n",
    "print(a.shape)\n",
    "print(a.dtype)"
   ]
  },
  {
   "cell_type": "code",
   "execution_count": 17,
   "metadata": {},
   "outputs": [
    {
     "name": "stdout",
     "output_type": "stream",
     "text": [
      "[[1 2 3]\n",
      " [4 5 6]]\n",
      "(2, 3)\n",
      "2\n"
     ]
    }
   ],
   "source": [
    "b = np.array([[1,2,3],[4,5,6]])\n",
    "print(b)\n",
    "print(b.shape)\n",
    "print(b.ndim) #n dimension"
   ]
  },
  {
   "cell_type": "code",
   "execution_count": 18,
   "metadata": {},
   "outputs": [
    {
     "name": "stdout",
     "output_type": "stream",
     "text": [
      "[[[1 2]\n",
      "  [2 3]\n",
      "  [3 1]]\n",
      "\n",
      " [[1 2]\n",
      "  [3 1]\n",
      "  [3 4]]]\n",
      "(2, 3, 2)\n",
      "3\n"
     ]
    }
   ],
   "source": [
    "c = np.array([[[1,2],[2,3],[3,1]],[[1,2],[3,1],[3,4]]])\n",
    "print(c)\n",
    "print(c.shape)\n",
    "print(c.ndim)"
   ]
  },
  {
   "cell_type": "code",
   "execution_count": 19,
   "metadata": {},
   "outputs": [
    {
     "name": "stdout",
     "output_type": "stream",
     "text": [
      "[[[1 2]\n",
      "  [2 3]\n",
      "  [3 1]\n",
      "  [4 5]]\n",
      "\n",
      " [[1 2]\n",
      "  [3 1]\n",
      "  [3 4]\n",
      "  [5 6]]]\n",
      "(2, 4, 2)\n",
      "3\n"
     ]
    }
   ],
   "source": [
    "d = np.array([[[1,2],[2,3],[3,1],[4,5]],[[1,2],[3,1],[3,4],[5,6]]])\n",
    "print(d)\n",
    "print(d.shape)\n",
    "print(d.ndim)"
   ]
  },
  {
   "cell_type": "markdown",
   "metadata": {},
   "source": [
    "- generating matrix\n",
    "  - linear\n",
    "    -- gap based\n",
    "    -- element based\n",
    "  - random\n",
    "  "
   ]
  },
  {
   "cell_type": "code",
   "execution_count": 20,
   "metadata": {},
   "outputs": [
    {
     "data": {
      "text/plain": [
       "array([ 1,  6, 11, 16, 21, 26, 31, 36, 41, 46, 51, 56, 61, 66, 71, 76, 81,\n",
       "       86, 91, 96])"
      ]
     },
     "execution_count": 20,
     "metadata": {},
     "output_type": "execute_result"
    }
   ],
   "source": [
    "np.arange(1,100,5) #1 to 100 at a diff of 5\n"
   ]
  },
  {
   "cell_type": "code",
   "execution_count": 21,
   "metadata": {},
   "outputs": [
    {
     "name": "stdout",
     "output_type": "stream",
     "text": [
      "[1.  1.2 1.4 1.6 1.8 2.  2.2 2.4 2.6 2.8 3.  3.2 3.4 3.6 3.8 4.  4.2 4.4\n",
      " 4.6 4.8 5.  5.2 5.4 5.6 5.8 6.  6.2 6.4 6.6 6.8 7.  7.2 7.4 7.6 7.8 8.\n",
      " 8.2 8.4 8.6 8.8 9.  9.2 9.4 9.6 9.8]\n"
     ]
    },
    {
     "data": {
      "text/plain": [
       "45"
      ]
     },
     "execution_count": 21,
     "metadata": {},
     "output_type": "execute_result"
    }
   ],
   "source": [
    "a = np.arange(1,10,.2)\n",
    "print(a)\n",
    "a.size"
   ]
  },
  {
   "cell_type": "code",
   "execution_count": 22,
   "metadata": {},
   "outputs": [
    {
     "name": "stdout",
     "output_type": "stream",
     "text": [
      "[-3.14 -2.89 -2.64 -2.39 -2.14 -1.89 -1.64 -1.39 -1.14 -0.89 -0.64 -0.39\n",
      " -0.14  0.11  0.36  0.61  0.86  1.11  1.36  1.61  1.86  2.11  2.36  2.61\n",
      "  2.86  3.11]\n"
     ]
    },
    {
     "data": {
      "text/plain": [
       "26"
      ]
     },
     "execution_count": 22,
     "metadata": {},
     "output_type": "execute_result"
    }
   ],
   "source": [
    "a = np.arange(-np.pi,np.pi,.25)\n",
    "print(a)\n",
    "a.size"
   ]
  },
  {
   "cell_type": "code",
   "execution_count": 24,
   "metadata": {},
   "outputs": [
    {
     "name": "stdout",
     "output_type": "stream",
     "text": [
      "[ 1.    1.09  1.18  1.27  1.36  1.45  1.55  1.64  1.73  1.82  1.91  2.\n",
      "  2.09  2.18  2.27  2.36  2.45  2.55  2.64  2.73  2.82  2.91  3.    3.09\n",
      "  3.18  3.27  3.36  3.45  3.55  3.64  3.73  3.82  3.91  4.    4.09  4.18\n",
      "  4.27  4.36  4.45  4.55  4.64  4.73  4.82  4.91  5.    5.09  5.18  5.27\n",
      "  5.36  5.45  5.55  5.64  5.73  5.82  5.91  6.    6.09  6.18  6.27  6.36\n",
      "  6.45  6.55  6.64  6.73  6.82  6.91  7.    7.09  7.18  7.27  7.36  7.45\n",
      "  7.55  7.64  7.73  7.82  7.91  8.    8.09  8.18  8.27  8.36  8.45  8.55\n",
      "  8.64  8.73  8.82  8.91  9.    9.09  9.18  9.27  9.36  9.45  9.55  9.64\n",
      "  9.73  9.82  9.91 10.  ]\n"
     ]
    }
   ],
   "source": [
    "b = np.linspace(1,10,100)\n",
    "print(b)"
   ]
  },
  {
   "cell_type": "code",
   "execution_count": 25,
   "metadata": {},
   "outputs": [
    {
     "data": {
      "text/plain": [
       "array([[ 1.  ,  1.09,  1.18,  1.27],\n",
       "       [ 1.36,  1.45,  1.55,  1.64],\n",
       "       [ 1.73,  1.82,  1.91,  2.  ],\n",
       "       [ 2.09,  2.18,  2.27,  2.36],\n",
       "       [ 2.45,  2.55,  2.64,  2.73],\n",
       "       [ 2.82,  2.91,  3.  ,  3.09],\n",
       "       [ 3.18,  3.27,  3.36,  3.45],\n",
       "       [ 3.55,  3.64,  3.73,  3.82],\n",
       "       [ 3.91,  4.  ,  4.09,  4.18],\n",
       "       [ 4.27,  4.36,  4.45,  4.55],\n",
       "       [ 4.64,  4.73,  4.82,  4.91],\n",
       "       [ 5.  ,  5.09,  5.18,  5.27],\n",
       "       [ 5.36,  5.45,  5.55,  5.64],\n",
       "       [ 5.73,  5.82,  5.91,  6.  ],\n",
       "       [ 6.09,  6.18,  6.27,  6.36],\n",
       "       [ 6.45,  6.55,  6.64,  6.73],\n",
       "       [ 6.82,  6.91,  7.  ,  7.09],\n",
       "       [ 7.18,  7.27,  7.36,  7.45],\n",
       "       [ 7.55,  7.64,  7.73,  7.82],\n",
       "       [ 7.91,  8.  ,  8.09,  8.18],\n",
       "       [ 8.27,  8.36,  8.45,  8.55],\n",
       "       [ 8.64,  8.73,  8.82,  8.91],\n",
       "       [ 9.  ,  9.09,  9.18,  9.27],\n",
       "       [ 9.36,  9.45,  9.55,  9.64],\n",
       "       [ 9.73,  9.82,  9.91, 10.  ]])"
      ]
     },
     "execution_count": 25,
     "metadata": {},
     "output_type": "execute_result"
    }
   ],
   "source": [
    "b.reshape(25,4) # 2D"
   ]
  },
  {
   "cell_type": "code",
   "execution_count": 26,
   "metadata": {},
   "outputs": [
    {
     "data": {
      "text/plain": [
       "array([[[ 1.  ,  1.09,  1.18,  1.27],\n",
       "        [ 1.36,  1.45,  1.55,  1.64],\n",
       "        [ 1.73,  1.82,  1.91,  2.  ],\n",
       "        [ 2.09,  2.18,  2.27,  2.36],\n",
       "        [ 2.45,  2.55,  2.64,  2.73]],\n",
       "\n",
       "       [[ 2.82,  2.91,  3.  ,  3.09],\n",
       "        [ 3.18,  3.27,  3.36,  3.45],\n",
       "        [ 3.55,  3.64,  3.73,  3.82],\n",
       "        [ 3.91,  4.  ,  4.09,  4.18],\n",
       "        [ 4.27,  4.36,  4.45,  4.55]],\n",
       "\n",
       "       [[ 4.64,  4.73,  4.82,  4.91],\n",
       "        [ 5.  ,  5.09,  5.18,  5.27],\n",
       "        [ 5.36,  5.45,  5.55,  5.64],\n",
       "        [ 5.73,  5.82,  5.91,  6.  ],\n",
       "        [ 6.09,  6.18,  6.27,  6.36]],\n",
       "\n",
       "       [[ 6.45,  6.55,  6.64,  6.73],\n",
       "        [ 6.82,  6.91,  7.  ,  7.09],\n",
       "        [ 7.18,  7.27,  7.36,  7.45],\n",
       "        [ 7.55,  7.64,  7.73,  7.82],\n",
       "        [ 7.91,  8.  ,  8.09,  8.18]],\n",
       "\n",
       "       [[ 8.27,  8.36,  8.45,  8.55],\n",
       "        [ 8.64,  8.73,  8.82,  8.91],\n",
       "        [ 9.  ,  9.09,  9.18,  9.27],\n",
       "        [ 9.36,  9.45,  9.55,  9.64],\n",
       "        [ 9.73,  9.82,  9.91, 10.  ]]])"
      ]
     },
     "execution_count": 26,
     "metadata": {},
     "output_type": "execute_result"
    }
   ],
   "source": [
    "b.reshape(5,5,4) #3D"
   ]
  },
  {
   "cell_type": "code",
   "execution_count": 27,
   "metadata": {},
   "outputs": [
    {
     "data": {
      "text/plain": [
       "array([[[[ 1.  ,  1.09],\n",
       "         [ 1.18,  1.27]],\n",
       "\n",
       "        [[ 1.36,  1.45],\n",
       "         [ 1.55,  1.64]],\n",
       "\n",
       "        [[ 1.73,  1.82],\n",
       "         [ 1.91,  2.  ]],\n",
       "\n",
       "        [[ 2.09,  2.18],\n",
       "         [ 2.27,  2.36]],\n",
       "\n",
       "        [[ 2.45,  2.55],\n",
       "         [ 2.64,  2.73]]],\n",
       "\n",
       "\n",
       "       [[[ 2.82,  2.91],\n",
       "         [ 3.  ,  3.09]],\n",
       "\n",
       "        [[ 3.18,  3.27],\n",
       "         [ 3.36,  3.45]],\n",
       "\n",
       "        [[ 3.55,  3.64],\n",
       "         [ 3.73,  3.82]],\n",
       "\n",
       "        [[ 3.91,  4.  ],\n",
       "         [ 4.09,  4.18]],\n",
       "\n",
       "        [[ 4.27,  4.36],\n",
       "         [ 4.45,  4.55]]],\n",
       "\n",
       "\n",
       "       [[[ 4.64,  4.73],\n",
       "         [ 4.82,  4.91]],\n",
       "\n",
       "        [[ 5.  ,  5.09],\n",
       "         [ 5.18,  5.27]],\n",
       "\n",
       "        [[ 5.36,  5.45],\n",
       "         [ 5.55,  5.64]],\n",
       "\n",
       "        [[ 5.73,  5.82],\n",
       "         [ 5.91,  6.  ]],\n",
       "\n",
       "        [[ 6.09,  6.18],\n",
       "         [ 6.27,  6.36]]],\n",
       "\n",
       "\n",
       "       [[[ 6.45,  6.55],\n",
       "         [ 6.64,  6.73]],\n",
       "\n",
       "        [[ 6.82,  6.91],\n",
       "         [ 7.  ,  7.09]],\n",
       "\n",
       "        [[ 7.18,  7.27],\n",
       "         [ 7.36,  7.45]],\n",
       "\n",
       "        [[ 7.55,  7.64],\n",
       "         [ 7.73,  7.82]],\n",
       "\n",
       "        [[ 7.91,  8.  ],\n",
       "         [ 8.09,  8.18]]],\n",
       "\n",
       "\n",
       "       [[[ 8.27,  8.36],\n",
       "         [ 8.45,  8.55]],\n",
       "\n",
       "        [[ 8.64,  8.73],\n",
       "         [ 8.82,  8.91]],\n",
       "\n",
       "        [[ 9.  ,  9.09],\n",
       "         [ 9.18,  9.27]],\n",
       "\n",
       "        [[ 9.36,  9.45],\n",
       "         [ 9.55,  9.64]],\n",
       "\n",
       "        [[ 9.73,  9.82],\n",
       "         [ 9.91, 10.  ]]]])"
      ]
     },
     "execution_count": 27,
     "metadata": {},
     "output_type": "execute_result"
    }
   ],
   "source": [
    "b.reshape(5,5,2,2) #4D"
   ]
  },
  {
   "cell_type": "code",
   "execution_count": 28,
   "metadata": {},
   "outputs": [
    {
     "name": "stdout",
     "output_type": "stream",
     "text": [
      "[[0.18 0.16 0.55]\n",
      " [0.03 0.88 0.61]\n",
      " [0.53 0.52 0.8 ]]\n"
     ]
    }
   ],
   "source": [
    "print(np.random.rand(3,3))"
   ]
  },
  {
   "cell_type": "code",
   "execution_count": 29,
   "metadata": {},
   "outputs": [
    {
     "name": "stdout",
     "output_type": "stream",
     "text": [
      "[[ 0.32  0.5   0.34  0.27  0.45]\n",
      " [-0.69 -0.57  0.08 -1.7   0.63]\n",
      " [-0.77  0.77 -0.83  0.1  -0.24]\n",
      " [ 1.64  0.72  2.1  -0.38  0.85]\n",
      " [ 0.2   0.5  -0.8   1.33  0.14]]\n"
     ]
    }
   ],
   "source": [
    "print(np.random.randn(5,5)) #random normal"
   ]
  },
  {
   "cell_type": "code",
   "execution_count": 31,
   "metadata": {},
   "outputs": [
    {
     "name": "stdout",
     "output_type": "stream",
     "text": [
      "[[74 40 42]\n",
      " [99 94 93]\n",
      " [96 62 75]\n",
      " [92 53 75]\n",
      " [88  1 73]]\n"
     ]
    }
   ],
   "source": [
    "print(np.random.randint(1,100,(5,3))) #last block for order of matrix"
   ]
  },
  {
   "cell_type": "code",
   "execution_count": 35,
   "metadata": {},
   "outputs": [
    {
     "name": "stdout",
     "output_type": "stream",
     "text": [
      "[[9 4 8]\n",
      " [1 8 2]\n",
      " [7 9 8]]\n",
      "[[9 1 8]\n",
      " [6 2 9]\n",
      " [2 8 5]]\n"
     ]
    }
   ],
   "source": [
    "x = np.random.randint(1,11,(3,3))\n",
    "y = np.random.randint(1,11,(3,3))\n",
    "print(x)\n",
    "print(y)"
   ]
  },
  {
   "cell_type": "code",
   "execution_count": 36,
   "metadata": {},
   "outputs": [
    {
     "data": {
      "text/plain": [
       "array([[18,  5, 16],\n",
       "       [ 7, 10, 11],\n",
       "       [ 9, 17, 13]])"
      ]
     },
     "execution_count": 36,
     "metadata": {},
     "output_type": "execute_result"
    }
   ],
   "source": [
    "x + y #element wise addition"
   ]
  },
  {
   "cell_type": "code",
   "execution_count": 37,
   "metadata": {},
   "outputs": [
    {
     "data": {
      "text/plain": [
       "array([[-1, -6, -2],\n",
       "       [-9, -2, -8],\n",
       "       [-3, -1, -2]])"
      ]
     },
     "execution_count": 37,
     "metadata": {},
     "output_type": "execute_result"
    }
   ],
   "source": [
    "x - 10"
   ]
  },
  {
   "cell_type": "code",
   "execution_count": 38,
   "metadata": {},
   "outputs": [
    {
     "data": {
      "text/plain": [
       "array([[121,  81, 148],\n",
       "       [ 61,  33,  90],\n",
       "       [133,  89, 177]])"
      ]
     },
     "execution_count": 38,
     "metadata": {},
     "output_type": "execute_result"
    }
   ],
   "source": [
    "x.dot(y) #multiplication of x matrix with y matrix"
   ]
  },
  {
   "cell_type": "code",
   "execution_count": null,
   "metadata": {},
   "outputs": [],
   "source": []
  }
 ],
 "metadata": {
  "kernelspec": {
   "display_name": "base",
   "language": "python",
   "name": "python3"
  },
  "language_info": {
   "codemirror_mode": {
    "name": "ipython",
    "version": 3
   },
   "file_extension": ".py",
   "mimetype": "text/x-python",
   "name": "python",
   "nbconvert_exporter": "python",
   "pygments_lexer": "ipython3",
   "version": "3.10.10"
  },
  "orig_nbformat": 4
 },
 "nbformat": 4,
 "nbformat_minor": 2
}
