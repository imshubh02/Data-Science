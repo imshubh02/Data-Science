{
 "cells": [
  {
   "cell_type": "markdown",
   "metadata": {},
   "source": [
    "String\n",
    "1. creating string\n",
    "2. index and slice\n",
    "3. methods"
   ]
  },
  {
   "cell_type": "code",
   "execution_count": 1,
   "metadata": {},
   "outputs": [
    {
     "name": "stdout",
     "output_type": "stream",
     "text": [
      "<class 'str'> <class 'str'> <class 'str'>\n",
      "<class 'str'>\n"
     ]
    }
   ],
   "source": [
    "a = 'Apple'\n",
    "b = \"Banana\"\n",
    "c = '''Try''' #This is a string of multiple lines\n",
    "print(type(a), type(b), type(c))\n",
    "d = str(123) #convert value to string\n",
    "print(type(d))"
   ]
  },
  {
   "cell_type": "code",
   "execution_count": 3,
   "metadata": {},
   "outputs": [
    {
     "data": {
      "text/plain": [
       "'AppleAppleAppleAppleApple'"
      ]
     },
     "execution_count": 3,
     "metadata": {},
     "output_type": "execute_result"
    }
   ],
   "source": [
    "a * 5 #string duplication"
   ]
  },
  {
   "cell_type": "code",
   "execution_count": 5,
   "metadata": {},
   "outputs": [
    {
     "data": {
      "text/plain": [
       "'AppleBanana'"
      ]
     },
     "execution_count": 5,
     "metadata": {},
     "output_type": "execute_result"
    }
   ],
   "source": [
    "(a + b) #string concatenation"
   ]
  },
  {
   "cell_type": "markdown",
   "metadata": {},
   "source": [
    "Indexes have positive index and negative index\n",
    "- 0 1 2 3 4...(positive)\n",
    "- -1 -2 -3 -4 -5(negative)"
   ]
  },
  {
   "cell_type": "code",
   "execution_count": 6,
   "metadata": {},
   "outputs": [
    {
     "data": {
      "text/plain": [
       "'App'"
      ]
     },
     "execution_count": 6,
     "metadata": {},
     "output_type": "execute_result"
    }
   ],
   "source": [
    "#Slice in python\n",
    "a[0:3] # a[0] a[1] a[2]"
   ]
  },
  {
   "cell_type": "code",
   "execution_count": 13,
   "metadata": {},
   "outputs": [
    {
     "name": "stdout",
     "output_type": "stream",
     "text": [
      "Vijay\n",
      "Deenanath\n",
      "Chauhan\n",
      "Vijay\n",
      "Chauhan\n",
      "Chauhan\n"
     ]
    }
   ],
   "source": [
    "name = \"Vijay Deenanath Chauhan\"\n",
    "print(name[0:5])\n",
    "print(name[6:15])\n",
    "print(name[16:len(name)])\n",
    "#when starting index is not given, it is assumed to be 0\n",
    "print(name[:5])\n",
    "#when ending index is not given, it is assumed to be len(name)\n",
    "print(name[16:])\n",
    "print(name[-7:])"
   ]
  },
  {
   "cell_type": "markdown",
   "metadata": {},
   "source": [
    "Slicing syntax\n",
    "-  var[(start):(stop):(step)]"
   ]
  },
  {
   "cell_type": "code",
   "execution_count": 16,
   "metadata": {},
   "outputs": [
    {
     "name": "stdout",
     "output_type": "stream",
     "text": [
      "VjyDeaahCahn\n",
      "ia ennt hua\n",
      "nahuahC htananeeD yajiV\n"
     ]
    }
   ],
   "source": [
    "print(name[::2])\n",
    "print(name[1::2])\n",
    "#reverse string\n",
    "print(name[::-1])"
   ]
  },
  {
   "cell_type": "markdown",
   "metadata": {},
   "source": [
    "String methods\n",
    "- formatting methods\n",
    "   - upper(), lower(), capitalize(), title(), swapcase()\n",
    "- validation methods\n",
    "   - isupper(), islower(), istitle(), isalpha(), isnumeric()\n",
    "   - startswith(), endswith()\n",
    "- utility methods\n",
    "   - split(), join(), find(), replace(), strip(), count()"
   ]
  },
  {
   "cell_type": "code",
   "execution_count": 26,
   "metadata": {},
   "outputs": [
    {
     "name": "stdout",
     "output_type": "stream",
     "text": [
      "THIS IS A PYTHON STRING\n",
      "this is a python string\n",
      "This is a python string\n",
      "tHIS IS A python STRING\n",
      "this is a python string\n",
      "This Is A Python String\n"
     ]
    }
   ],
   "source": [
    "#Formatting methods\n",
    "msg = 'This is a PYTHON string'\n",
    "print(msg.upper())\n",
    "print(msg.lower())\n",
    "print(msg.capitalize()) #except first all letters are small irrespective of how long the string is\n",
    "print(msg.swapcase())\n",
    "print(msg.casefold()) #same as lower case\n",
    "print(msg.title())\n",
    "\n"
   ]
  },
  {
   "cell_type": "code",
   "execution_count": 27,
   "metadata": {},
   "outputs": [
    {
     "name": "stdout",
     "output_type": "stream",
     "text": [
      "This Is A Python String\n"
     ]
    }
   ],
   "source": [
    "msg = msg.title()\n",
    "print(msg)"
   ]
  },
  {
   "cell_type": "code",
   "execution_count": 7,
   "metadata": {},
   "outputs": [
    {
     "data": {
      "text/plain": [
       "False"
      ]
     },
     "execution_count": 7,
     "metadata": {},
     "output_type": "execute_result"
    }
   ],
   "source": [
    "\"hello\".isupper()\n"
   ]
  },
  {
   "cell_type": "code",
   "execution_count": 33,
   "metadata": {},
   "outputs": [
    {
     "name": "stdout",
     "output_type": "stream",
     "text": [
      ">>> FgjdjT <<<\n",
      "You entered a string\n",
      "You entered an alphanumeric\n"
     ]
    }
   ],
   "source": [
    "#Validation function\n",
    "x = input('Enter a number')\n",
    "print('>>>', x, '<<<')\n",
    "if x.isnumeric():\n",
    "    print('You entered a number')\n",
    "if x.isalpha():\n",
    "    print('You entered a string')\n",
    "if x.isalnum():\n",
    "    print('You entered an alphanumeric')\n",
    "if x.islower():\n",
    "    print('You entered a lowercase string')"
   ]
  },
  {
   "cell_type": "code",
   "execution_count": 34,
   "metadata": {},
   "outputs": [
    {
     "name": "stdout",
     "output_type": "stream",
     "text": [
      "True\n",
      "False\n"
     ]
    }
   ],
   "source": [
    "person = \"Mr. Smith\"\n",
    "print(person.startswith(\"Mr.\"))\n",
    "print(person.startswith(\"Ms.\"))"
   ]
  },
  {
   "cell_type": "code",
   "execution_count": 38,
   "metadata": {},
   "outputs": [
    {
     "name": "stdout",
     "output_type": "stream",
     "text": [
      "Blue\n",
      "Black\n",
      "Brown\n"
     ]
    }
   ],
   "source": [
    "colors = ['Red','Green','Blue','Black','Brown']\n",
    "for color in colors:\n",
    "    if color.startswith('B'):\n",
    "        print(color)\n",
    "    \n"
   ]
  },
  {
   "cell_type": "code",
   "execution_count": 39,
   "metadata": {},
   "outputs": [
    {
     "name": "stdout",
     "output_type": "stream",
     "text": [
      "JPG found >> 1.jpg\n",
      "PNG found >> 2.png\n",
      "PNG found >> 3.png\n",
      "PNG found >> 4.png\n",
      "JPG found >> 5.jpg\n"
     ]
    }
   ],
   "source": [
    "images = ['1.jpg','2.png','3.png','4.png','5.jpg']\n",
    "for img in images:\n",
    "    if img.endswith('.png'):\n",
    "        print(\"PNG found >>\", img)\n",
    "    if img.endswith('.jpg'):\n",
    "        print(\"JPG found >>\", img)"
   ]
  },
  {
   "cell_type": "code",
   "execution_count": 44,
   "metadata": {},
   "outputs": [
    {
     "name": "stdout",
     "output_type": "stream",
     "text": [
      "Life before Death, Strength before Weakness, Journey before Destination\n",
      "['Life', 'before', 'Death,', 'Strength', 'before', 'Weakness,', 'Journey', 'before', 'Destination']\n",
      "['Life before Death', ' Strength before Weakness', ' Journey before Destination']\n",
      "['Life before De', 'th, Strength before We', 'kness, Journey before Destin', 'tion']\n",
      "['Life ', ' Death, Strength ', ' Weakness, Journey ', ' Destination']\n"
     ]
    }
   ],
   "source": [
    "quote = \"Life before Death, Strength before Weakness, Journey before Destination\"\n",
    "print(quote)\n",
    "print(quote.split())\n",
    "print(quote.split(\",\"))\n",
    "print(quote.split(\"a\"))\n",
    "print(quote.split(\"before\"))"
   ]
  },
  {
   "cell_type": "code",
   "execution_count": null,
   "metadata": {},
   "outputs": [],
   "source": [
    "words = quote.split()\n",
    "print(words)\n",
    "print(len(words))"
   ]
  },
  {
   "cell_type": "code",
   "execution_count": 4,
   "metadata": {},
   "outputs": [
    {
     "name": "stdout",
     "output_type": "stream",
     "text": [
      "Alex Alexa Alexis Alexander\n",
      "Alex,Alexa,Alexis,Alexander\n",
      "Alex--Alexa--Alexis--Alexander\n",
      "Alex + Alexa + Alexis + Alexander\n"
     ]
    }
   ],
   "source": [
    "#join\n",
    "x = ['Alex', 'Alexa', 'Alexis', 'Alexander']\n",
    "print(\" \".join(x))\n",
    "print(\",\".join(x))\n",
    "print(\"--\".join(x))\n",
    "print(\" + \".join(x))\n"
   ]
  },
  {
   "cell_type": "code",
   "execution_count": 11,
   "metadata": {},
   "outputs": [
    {
     "name": "stdout",
     "output_type": "stream",
     "text": [
      "7\n",
      "30\n",
      "64\n",
      "49\n",
      "-1\n"
     ]
    }
   ],
   "source": [
    "story = 'Once upon a time, there was a king, who left his kingdom to the queen, and she ruled over it'\n",
    "print(story.find('on'))\n",
    "print(story.find('king'))\n",
    "print(story.find('queen'))\n",
    "print(story.find('king', 31)) #31 is the starting index for searching\n",
    "print(story.find('prince'))\n"
   ]
  },
  {
   "cell_type": "code",
   "execution_count": 16,
   "metadata": {},
   "outputs": [
    {
     "name": "stdout",
     "output_type": "stream",
     "text": [
      "Once upon a tome, there was a kong, who left hos kongdom to the queen, and she ruled over ot\n",
      "Once upon a time, thisre was a king, who left his kingdom to this queen, and she ruled over it\n",
      "Once upon a year, there is a king, who leaves his kingdom to the queen, and she ruled over it\n",
      "Once upon  time, there ws  king, who left his kingdom to the queen, nd she ruled over it\n",
      "Once upon a time, there was a , who left his dom to the queen, and she ruled over it\n"
     ]
    }
   ],
   "source": [
    "print(story.replace('i','o'))\n",
    "print(story.replace('the','this'))\n",
    "print(story.replace('time','year').replace('was','is').replace('left','leaves'))\n",
    "print(story.replace('a','')) #remove all a\n",
    "print(story.replace('king','')) #remove all king"
   ]
  },
  {
   "cell_type": "code",
   "execution_count": 17,
   "metadata": {},
   "outputs": [
    {
     "name": "stdout",
     "output_type": "stream",
     "text": [
      "Once upon a time, there was a queen, who left his queendom to the queen, and she ruled over it\n"
     ]
    }
   ],
   "source": [
    "story = story.replace('king','queen')\n",
    "print(story)"
   ]
  },
  {
   "cell_type": "code",
   "execution_count": 18,
   "metadata": {},
   "outputs": [
    {
     "name": "stdout",
     "output_type": "stream",
     "text": [
      "hello 8 5\n"
     ]
    }
   ],
   "source": [
    "data = ' hello  '\n",
    "cdata = data.strip()\n",
    "print(cdata, len(data), len(cdata))"
   ]
  },
  {
   "cell_type": "code",
   "execution_count": 20,
   "metadata": {},
   "outputs": [
    {
     "name": "stdout",
     "output_type": "stream",
     "text": [
      "\n",
      "  Rs.1000\n",
      "\n",
      "  \n",
      "Rs.1000\n"
     ]
    }
   ],
   "source": [
    "kachra = '''\n",
    "  Rs.1000\n",
    "\n",
    "  '''\n",
    "print(kachra)\n",
    "print(kachra.strip())"
   ]
  },
  {
   "cell_type": "code",
   "execution_count": 7,
   "metadata": {},
   "outputs": [
    {
     "name": "stdout",
     "output_type": "stream",
     "text": [
      "1\n",
      "2\n",
      "3\n",
      "4\n",
      "5\n"
     ]
    }
   ],
   "source": [
    "images = ['1.jpg','2.png','3.png','4.png','5.jpg']\n",
    "for image in images:\n",
    "    image = image.removesuffix('.png').removesuffix('.jpg')\n",
    "    print(image)"
   ]
  },
  {
   "cell_type": "code",
   "execution_count": 22,
   "metadata": {},
   "outputs": [
    {
     "name": "stdout",
     "output_type": "stream",
     "text": [
      "10000\n",
      "8000\n",
      "12000\n",
      "15000\n",
      "20000\n"
     ]
    }
   ],
   "source": [
    "prices = ['Rs.10000','Rs.8000','Rs.12000','Rs.15000','Rs.20000']\n",
    "for price in prices:\n",
    "    pr = price.removeprefix('Rs.')\n",
    "    print(int(pr))"
   ]
  },
  {
   "cell_type": "code",
   "execution_count": 25,
   "metadata": {},
   "outputs": [
    {
     "name": "stdout",
     "output_type": "stream",
     "text": [
      "4\n",
      "0\n",
      "1\n"
     ]
    }
   ],
   "source": [
    "print(story.count('a'))\n",
    "print(story.count('this'))\n",
    "print(story.count('is'))"
   ]
  },
  {
   "cell_type": "code",
   "execution_count": 26,
   "metadata": {},
   "outputs": [
    {
     "data": {
      "text/plain": [
       "32"
      ]
     },
     "execution_count": 26,
     "metadata": {},
     "output_type": "execute_result"
    }
   ],
   "source": [
    "#total no of vowels in story\n",
    "(story.count('a')) + (story.count('e')) + (story.count('i')) + (story.count('o')) + (story.count('u'))"
   ]
  },
  {
   "cell_type": "code",
   "execution_count": 27,
   "metadata": {},
   "outputs": [
    {
     "name": "stdout",
     "output_type": "stream",
     "text": [
      "The Zen of Python, by Tim Peters\n",
      "\n",
      "Beautiful is better than ugly.\n",
      "Explicit is better than implicit.\n",
      "Simple is better than complex.\n",
      "Complex is better than complicated.\n",
      "Flat is better than nested.\n",
      "Sparse is better than dense.\n",
      "Readability counts.\n",
      "Special cases aren't special enough to break the rules.\n",
      "Although practicality beats purity.\n",
      "Errors should never pass silently.\n",
      "Unless explicitly silenced.\n",
      "In the face of ambiguity, refuse the temptation to guess.\n",
      "There should be one-- and preferably only one --obvious way to do it.\n",
      "Although that way may not be obvious at first unless you're Dutch.\n",
      "Now is better than never.\n",
      "Although never is often better than *right* now.\n",
      "If the implementation is hard to explain, it's a bad idea.\n",
      "If the implementation is easy to explain, it may be a good idea.\n",
      "Namespaces are one honking great idea -- let's do more of those!\n"
     ]
    }
   ],
   "source": [
    "import this"
   ]
  },
  {
   "cell_type": "code",
   "execution_count": 1,
   "metadata": {},
   "outputs": [
    {
     "name": "stdout",
     "output_type": "stream",
     "text": [
      "['The', 'Zen', 'of', 'Python,', 'by', 'Tim', 'Peters', 'Beautiful', 'is', 'better', 'than', 'ugly.', 'Explicit', 'is', 'better', 'than', 'implicit.', 'Simple', 'is', 'better', 'than', 'complex.', 'Complex', 'is', 'better', 'than', 'complicated.', 'Flat', 'is', 'better', 'than', 'nested.', 'Sparse', 'is', 'better', 'than', 'dense.', 'Readability', 'counts.', 'Special', 'cases', \"aren't\", 'special', 'enough', 'to', 'break', 'the', 'rules.', 'Although', 'practicality', 'beats', 'purity.', 'Errors', 'should', 'never', 'pass', 'silently.', 'Unless', 'explicitly', 'silenced.', 'In', 'the', 'face', 'of', 'ambiguity,', 'refuse', 'the', 'temptation', 'to', 'guess.', 'There', 'should', 'be', 'one--', 'and', 'preferably', 'only', 'one', '--obvious', 'way', 'to', 'do', 'it.', 'Although', 'that', 'way', 'may', 'not', 'be', 'obvious', 'at', 'first', 'unless', \"you're\", 'Dutch.', 'Now', 'is', 'better', 'than', 'never.', 'Although', 'never', 'is', 'often', 'better', 'than', '*right*', 'now.', 'If', 'the', 'implementation', 'is', 'hard', 'to', 'explain,', \"it's\", 'a', 'bad', 'idea.', 'If', 'the', 'implementation', 'is', 'easy', 'to', 'explain,', 'it', 'may', 'be', 'a', 'good', 'idea.', 'Namespaces', 'are', 'one', 'honking', 'great', 'idea', '--', \"let's\", 'do', 'more', 'of', 'those!']\n",
      "are                                               3\n",
      "implicit.                                         9\n",
      "nested.                                           7\n",
      "you're                                            6\n",
      "--                                                2\n",
      "Flat                                              4\n",
      "temptation                                        10\n",
      "not                                               3\n",
      "idea                                              4\n",
      "pass                                              4\n",
      "There                                             5\n",
      "enough                                            6\n",
      "may                                               3\n",
      "explain,                                          8\n",
      "by                                                2\n",
      "Special                                           7\n",
      "Sparse                                            6\n",
      "Namespaces                                        10\n",
      "ambiguity,                                        10\n",
      "Simple                                            6\n",
      "better                                            6\n",
      "Now                                               3\n",
      "honking                                           7\n",
      "silenced.                                         9\n",
      "Dutch.                                            6\n",
      "cases                                             5\n",
      "--obvious                                         9\n",
      "implementation                                    14\n",
      "complicated.                                      12\n",
      "ugly.                                             5\n",
      "the                                               3\n",
      "aren't                                            6\n",
      "hard                                              4\n",
      "at                                                2\n",
      "than                                              4\n",
      "only                                              4\n",
      "Zen                                               3\n",
      "Beautiful                                         9\n",
      "Tim                                               3\n",
      "silently.                                         9\n",
      "first                                             5\n",
      "do                                                2\n",
      "unless                                            6\n",
      "now.                                              4\n",
      "never.                                            6\n",
      "preferably                                        10\n",
      "complex.                                          8\n",
      "Explicit                                          8\n",
      "good                                              4\n",
      "should                                            6\n",
      "to                                                2\n",
      "Readability                                       11\n",
      "dense.                                            6\n",
      "it.                                               3\n",
      "let's                                             5\n",
      "explicitly                                        10\n",
      "often                                             5\n",
      "If                                                2\n",
      "one--                                             5\n",
      "rules.                                            6\n",
      "those!                                            6\n",
      "one                                               3\n",
      "guess.                                            6\n",
      "never                                             5\n",
      "bad                                               3\n",
      "easy                                              4\n",
      "Unless                                            6\n",
      "Python,                                           7\n",
      "is                                                2\n",
      "great                                             5\n",
      "special                                           7\n",
      "practicality                                      12\n",
      "Peters                                            6\n",
      "Errors                                            6\n",
      "purity.                                           7\n",
      "it's                                              4\n",
      "idea.                                             5\n",
      "In                                                2\n",
      "counts.                                           7\n",
      "Although                                          8\n",
      "and                                               3\n",
      "it                                                2\n",
      "way                                               3\n",
      "a                                                 1\n",
      "beats                                             5\n",
      "Complex                                           7\n",
      "be                                                2\n",
      "refuse                                            6\n",
      "more                                              4\n",
      "of                                                2\n",
      "*right*                                           7\n",
      "break                                             5\n",
      "that                                              4\n",
      "obvious                                           7\n",
      "The                                               3\n",
      "face                                              4\n"
     ]
    }
   ],
   "source": [
    "content = '''The Zen of Python, by Tim Peters\n",
    "Beautiful is better than ugly.\n",
    "Explicit is better than implicit.\n",
    "Simple is better than complex.\n",
    "Complex is better than complicated.\n",
    "Flat is better than nested.\n",
    "Sparse is better than dense.\n",
    "Readability counts.\n",
    "Special cases aren't special enough to break the rules.\n",
    "Although practicality beats purity.\n",
    "Errors should never pass silently.\n",
    "Unless explicitly silenced.\n",
    "In the face of ambiguity, refuse the temptation to guess.\n",
    "There should be one-- and preferably only one --obvious way to do it.\n",
    "Although that way may not be obvious at first unless you're Dutch.\n",
    "Now is better than never.\n",
    "Although never is often better than *right* now.\n",
    "If the implementation is hard to explain, it's a bad idea.\n",
    "If the implementation is easy to explain, it may be a good idea.\n",
    "Namespaces are one honking great idea -- let's do more of those!'''\n",
    "\n",
    "print(content.split())\n",
    "for word in set(content.split()):\n",
    "    print(f'{word:50}{len(word)}')\n",
    "\n"
   ]
  },
  {
   "cell_type": "code",
   "execution_count": null,
   "metadata": {},
   "outputs": [],
   "source": []
  }
 ],
 "metadata": {
  "kernelspec": {
   "display_name": "base",
   "language": "python",
   "name": "python3"
  },
  "language_info": {
   "codemirror_mode": {
    "name": "ipython",
    "version": 3
   },
   "file_extension": ".py",
   "mimetype": "text/x-python",
   "name": "python",
   "nbconvert_exporter": "python",
   "pygments_lexer": "ipython3",
   "version": "3.10.10"
  },
  "orig_nbformat": 4
 },
 "nbformat": 4,
 "nbformat_minor": 2
}
