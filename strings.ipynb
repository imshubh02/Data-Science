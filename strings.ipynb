{
 "cells": [
  {
   "cell_type": "markdown",
   "metadata": {},
   "source": [
    "String\n",
    "1. creating string\n",
    "2. index and slice\n",
    "3. methods"
   ]
  },
  {
   "cell_type": "code",
   "execution_count": 2,
   "metadata": {},
   "outputs": [
    {
     "name": "stdout",
     "output_type": "stream",
     "text": [
      "<class 'str'> <class 'str'> <class 'str'>\n",
      "<class 'str'>\n"
     ]
    }
   ],
   "source": [
    "a = 'Apple'\n",
    "b = \"Banana\"\n",
    "c = '''Try''' #This is a string of multiple lines\n",
    "print(type(a), type(b), type(c))\n",
    "d = str(123) #convert value to string\n",
    "print(type(d))"
   ]
  },
  {
   "cell_type": "code",
   "execution_count": 3,
   "metadata": {},
   "outputs": [
    {
     "data": {
      "text/plain": [
       "'AppleAppleAppleAppleApple'"
      ]
     },
     "execution_count": 3,
     "metadata": {},
     "output_type": "execute_result"
    }
   ],
   "source": [
    "a * 5 #string duplication"
   ]
  },
  {
   "cell_type": "code",
   "execution_count": 4,
   "metadata": {},
   "outputs": [
    {
     "data": {
      "text/plain": [
       "'AppleBanana'"
      ]
     },
     "execution_count": 4,
     "metadata": {},
     "output_type": "execute_result"
    }
   ],
   "source": [
    "a + b #string concatenation"
   ]
  },
  {
   "cell_type": "markdown",
   "metadata": {},
   "source": [
    "Indexes have positive index and negative index\n",
    "- 0 1 2 3 4...(positive)\n",
    "- -1 -2 -3 -4 -5(negative)"
   ]
  },
  {
   "cell_type": "code",
   "execution_count": 6,
   "metadata": {},
   "outputs": [
    {
     "data": {
      "text/plain": [
       "'App'"
      ]
     },
     "execution_count": 6,
     "metadata": {},
     "output_type": "execute_result"
    }
   ],
   "source": [
    "#Slice in python\n",
    "a[0:3] # a[0] a[1] a[3]"
   ]
  },
  {
   "cell_type": "code",
   "execution_count": 13,
   "metadata": {},
   "outputs": [
    {
     "name": "stdout",
     "output_type": "stream",
     "text": [
      "Vijay\n",
      "Deenanath\n",
      "Chauhan\n",
      "Vijay\n",
      "Chauhan\n",
      "Chauhan\n"
     ]
    }
   ],
   "source": [
    "name = \"Vijay Deenanath Chauhan\"\n",
    "print(name[0:5])\n",
    "print(name[6:15])\n",
    "print(name[16:len(name)])\n",
    "#when starting index is not given, it is assumed to be 0\n",
    "print(name[:5])\n",
    "#when ending index is not given, it is assumed to be len(name)\n",
    "print(name[16:])\n",
    "print(name[-7:])"
   ]
  },
  {
   "cell_type": "markdown",
   "metadata": {},
   "source": [
    "Slicing syntax\n",
    "-  var[(start):(stop):(step)]"
   ]
  },
  {
   "cell_type": "code",
   "execution_count": 16,
   "metadata": {},
   "outputs": [
    {
     "name": "stdout",
     "output_type": "stream",
     "text": [
      "VjyDeaahCahn\n",
      "ia ennt hua\n",
      "nahuahC htananeeD yajiV\n"
     ]
    }
   ],
   "source": [
    "print(name[::2])\n",
    "print(name[1::2])\n",
    "#reverse string\n",
    "print(name[::-1])"
   ]
  },
  {
   "cell_type": "markdown",
   "metadata": {},
   "source": [
    "String methods\n",
    "- formatting methods\n",
    "   - upper(), lower(), capitalize(), title(), swapcase()\n",
    "- validation methods\n",
    "   - isupper(), islower(), istitle(), isalpha(), isnumeric()\n",
    "   - startswith(), endswith()\n",
    "- utility methods\n",
    "   - split(), join(), find(), replace(), strip()"
   ]
  },
  {
   "cell_type": "code",
   "execution_count": 26,
   "metadata": {},
   "outputs": [
    {
     "name": "stdout",
     "output_type": "stream",
     "text": [
      "THIS IS A PYTHON STRING\n",
      "this is a python string\n",
      "This is a python string\n",
      "tHIS IS A python STRING\n",
      "this is a python string\n",
      "This Is A Python String\n"
     ]
    }
   ],
   "source": [
    "msg = 'This is a PYTHON string'\n",
    "print(msg.upper())\n",
    "print(msg.lower())\n",
    "print(msg.capitalize()) #except first all letters are small irrespective of how long the string is\n",
    "print(msg.swapcase())\n",
    "print(msg.casefold()) #same as lower case\n",
    "print(msg.title())\n",
    "\n"
   ]
  },
  {
   "cell_type": "code",
   "execution_count": 27,
   "metadata": {},
   "outputs": [
    {
     "name": "stdout",
     "output_type": "stream",
     "text": [
      "This Is A Python String\n"
     ]
    }
   ],
   "source": [
    "msg = msg.title()\n",
    "print(msg)"
   ]
  },
  {
   "cell_type": "code",
   "execution_count": 30,
   "metadata": {},
   "outputs": [
    {
     "data": {
      "text/plain": [
       "False"
      ]
     },
     "execution_count": 30,
     "metadata": {},
     "output_type": "execute_result"
    }
   ],
   "source": [
    " \"hello\".isupper()\n"
   ]
  },
  {
   "cell_type": "code",
   "execution_count": 33,
   "metadata": {},
   "outputs": [
    {
     "name": "stdout",
     "output_type": "stream",
     "text": [
      ">>> FgjdjT <<<\n",
      "You entered a string\n",
      "You entered an alphanumeric\n"
     ]
    }
   ],
   "source": [
    "#Validation function\n",
    "x = input('Enter a number')\n",
    "print('>>>', x, '<<<')\n",
    "if x.isnumeric():\n",
    "    print('You entered a number')\n",
    "if x.isalpha():\n",
    "    print('You entered a string')\n",
    "if x.isalnum():\n",
    "    print('You entered an alphanumeric')\n",
    "if x.islower():\n",
    "    print('You entered a lowercase string')"
   ]
  },
  {
   "cell_type": "code",
   "execution_count": 34,
   "metadata": {},
   "outputs": [
    {
     "name": "stdout",
     "output_type": "stream",
     "text": [
      "True\n",
      "False\n"
     ]
    }
   ],
   "source": [
    "person = \"Mr. Smith\"\n",
    "print(person.startswith(\"Mr.\"))\n",
    "print(person.startswith(\"Ms.\"))"
   ]
  },
  {
   "cell_type": "code",
   "execution_count": 38,
   "metadata": {},
   "outputs": [
    {
     "name": "stdout",
     "output_type": "stream",
     "text": [
      "Blue\n",
      "Black\n",
      "Brown\n"
     ]
    }
   ],
   "source": [
    "colors = ['Red','Green','Blue','Black','Brown']\n",
    "for color in colors:\n",
    "    if color.startswith('B'):\n",
    "        print(color)\n",
    "    \n"
   ]
  },
  {
   "cell_type": "code",
   "execution_count": 39,
   "metadata": {},
   "outputs": [
    {
     "name": "stdout",
     "output_type": "stream",
     "text": [
      "JPG found >> 1.jpg\n",
      "PNG found >> 2.png\n",
      "PNG found >> 3.png\n",
      "PNG found >> 4.png\n",
      "JPG found >> 5.jpg\n"
     ]
    }
   ],
   "source": [
    "images = ['1.jpg','2.png','3.png','4.png','5.jpg']\n",
    "for img in images:\n",
    "    if img.endswith('.png'):\n",
    "        print(\"PNG found >>\", img)\n",
    "    if img.endswith('.jpg'):\n",
    "        print(\"JPG found >>\", img)"
   ]
  },
  {
   "cell_type": "code",
   "execution_count": 44,
   "metadata": {},
   "outputs": [
    {
     "name": "stdout",
     "output_type": "stream",
     "text": [
      "Life before Death, Strength before Weakness, Journey before Destination\n",
      "['Life', 'before', 'Death,', 'Strength', 'before', 'Weakness,', 'Journey', 'before', 'Destination']\n",
      "['Life before Death', ' Strength before Weakness', ' Journey before Destination']\n",
      "['Life before De', 'th, Strength before We', 'kness, Journey before Destin', 'tion']\n",
      "['Life ', ' Death, Strength ', ' Weakness, Journey ', ' Destination']\n"
     ]
    }
   ],
   "source": [
    "quote = \"Life before Death, Strength before Weakness, Journey before Destination\"\n",
    "print(quote)\n",
    "print(quote.split())\n",
    "print(quote.split(\",\"))\n",
    "print(quote.split(\"a\"))\n",
    "print(quote.split(\"before\"))"
   ]
  },
  {
   "cell_type": "code",
   "execution_count": null,
   "metadata": {},
   "outputs": [],
   "source": [
    "words = quote.split()\n",
    "print(words)\n",
    "print(len(words))"
   ]
  }
 ],
 "metadata": {
  "kernelspec": {
   "display_name": "base",
   "language": "python",
   "name": "python3"
  },
  "language_info": {
   "codemirror_mode": {
    "name": "ipython",
    "version": 3
   },
   "file_extension": ".py",
   "mimetype": "text/x-python",
   "name": "python",
   "nbconvert_exporter": "python",
   "pygments_lexer": "ipython3",
   "version": "3.10.10"
  },
  "orig_nbformat": 4
 },
 "nbformat": 4,
 "nbformat_minor": 2
}
