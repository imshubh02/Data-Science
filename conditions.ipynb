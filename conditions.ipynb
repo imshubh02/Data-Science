{
 "cells": [
  {
   "cell_type": "code",
   "execution_count": 1,
   "metadata": {},
   "outputs": [],
   "source": [
    "x = input('enter name')\n"
   ]
  },
  {
   "cell_type": "code",
   "execution_count": 2,
   "metadata": {},
   "outputs": [
    {
     "ename": "NameError",
     "evalue": "name 'x' is not defined",
     "output_type": "error",
     "traceback": [
      "\u001b[1;31m---------------------------------------------------------------------------\u001b[0m",
      "\u001b[1;31mNameError\u001b[0m                                 Traceback (most recent call last)",
      "Cell \u001b[1;32mIn[2], line 1\u001b[0m\n\u001b[1;32m----> 1\u001b[0m \u001b[39mif\u001b[39;00m \u001b[39mlen\u001b[39m(x) \u001b[39m==\u001b[39m \u001b[39m4\u001b[39m:\n\u001b[0;32m      2\u001b[0m     \u001b[39mprint\u001b[39m(\u001b[39m\"\u001b[39m\u001b[39mWelcome mister 4 letters\u001b[39m\u001b[39m\"\u001b[39m)\n\u001b[0;32m      4\u001b[0m \u001b[39mif\u001b[39;00m \u001b[39mlen\u001b[39m(x) \u001b[39m==\u001b[39m \u001b[39m0\u001b[39m:\n",
      "\u001b[1;31mNameError\u001b[0m: name 'x' is not defined"
     ]
    }
   ],
   "source": [
    "if len(x) == 4:\n",
    "    print(\"Welcome mister 4 letters\")\n",
    "\n",
    "if len(x) == 0:\n",
    "    print(\"Welcome Mr. Nobody\")\n"
   ]
  },
  {
   "cell_type": "code",
   "execution_count": 3,
   "metadata": {},
   "outputs": [
    {
     "name": "stdout",
     "output_type": "stream",
     "text": [
      "Odd number\n"
     ]
    }
   ],
   "source": [
    "num = int(input('Enter number:'))\n",
    "if num % 2 == 0:\n",
    "    print('Even number')\n",
    "else:\n",
    "    print('Odd number')\n",
    "\n",
    "          "
   ]
  },
  {
   "cell_type": "code",
   "execution_count": 4,
   "metadata": {},
   "outputs": [
    {
     "name": "stdout",
     "output_type": "stream",
     "text": [
      "Divisible by 4\n"
     ]
    }
   ],
   "source": [
    "number = int(input('Enter number:'))\n",
    "if (number % 4 == 0):\n",
    "    print(\"Divisible by 4\")\n",
    "else:\n",
    "    print(\"Not divisible by 4\")"
   ]
  },
  {
   "cell_type": "code",
   "execution_count": 6,
   "metadata": {},
   "outputs": [
    {
     "name": "stdout",
     "output_type": "stream",
     "text": [
      "c is greater\n"
     ]
    }
   ],
   "source": [
    "a,b,c = 10,20,30\n",
    "if a>b and a>c:\n",
    "    print('a is greater')\n",
    "elif b>a and b>c:\n",
    "    print('b is greater')\n",
    "else:\n",
    "    print('c is greater')"
   ]
  },
  {
   "cell_type": "code",
   "execution_count": 6,
   "metadata": {},
   "outputs": [
    {
     "name": "stdout",
     "output_type": "stream",
     "text": [
      "You chose weekend\n"
     ]
    }
   ],
   "source": [
    "day = input('Enter day')\n",
    "match(day): #similar_to_switch_case_in_java\n",
    "    case 'monday': print('You chose monday')\n",
    "    case 'tuesday': print('You chose tuesday')\n",
    "    case 'wednesday'|'thursday': print('You chose a day')\n",
    "    case 'friday': print('You chose friday')\n",
    "    case 'saturday'|'sunday': print('You chose weekend')\n",
    "    case _: print('You chose a wrong day')"
   ]
  },
  {
   "cell_type": "code",
   "execution_count": 9,
   "metadata": {},
   "outputs": [
    {
     "name": "stdout",
     "output_type": "stream",
     "text": [
      "45000 -> 56250.0\n"
     ]
    }
   ],
   "source": [
    "amount = int(input('enter basic amount'))\n",
    "if amount < 10000:\n",
    "    total = amount + amount*0.5\n",
    "elif amount < 50000:\n",
    "    total = amount + amount*0.25\n",
    "elif amount < 100000:\n",
    "    total = amount + amount*0.1\n",
    "print(f'{amount} -> {total}')"
   ]
  },
  {
   "cell_type": "code",
   "execution_count": 7,
   "metadata": {},
   "outputs": [
    {
     "name": "stdout",
     "output_type": "stream",
     "text": [
      "Simple interest is 75.0\n"
     ]
    }
   ],
   "source": [
    "prin = int(input('Enter principle'))\n",
    "rate = float(input('Enter rate'))\n",
    "time = int(input('Enter time'))\n",
    "si = (prin*rate*time)/100\n",
    "print(f'Simple interest is {si}')"
   ]
  },
  {
   "cell_type": "code",
   "execution_count": null,
   "metadata": {},
   "outputs": [],
   "source": []
  }
 ],
 "metadata": {
  "kernelspec": {
   "display_name": "base",
   "language": "python",
   "name": "python3"
  },
  "language_info": {
   "codemirror_mode": {
    "name": "ipython",
    "version": 3
   },
   "file_extension": ".py",
   "mimetype": "text/x-python",
   "name": "python",
   "nbconvert_exporter": "python",
   "pygments_lexer": "ipython3",
   "version": "3.10.10"
  },
  "orig_nbformat": 4
 },
 "nbformat": 4,
 "nbformat_minor": 2
}
