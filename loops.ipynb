{
 "cells": [
  {
   "cell_type": "markdown",
   "metadata": {},
   "source": [
    "syntax\n",
    "\n",
    "for temp in iterable:\n",
    "statement 1\n",
    "...\n",
    "statement n\n"
   ]
  },
  {
   "cell_type": "code",
   "execution_count": null,
   "metadata": {},
   "outputs": [],
   "source": [
    "range(10)"
   ]
  },
  {
   "cell_type": "code",
   "execution_count": 4,
   "metadata": {},
   "outputs": [
    {
     "name": "stdout",
     "output_type": "stream",
     "text": [
      "5\n",
      "6\n",
      "7\n",
      "8\n",
      "9\n"
     ]
    }
   ],
   "source": [
    "for i in range(5,10):\n",
    "    print(i)"
   ]
  },
  {
   "cell_type": "code",
   "execution_count": 7,
   "metadata": {},
   "outputs": [
    {
     "name": "stdout",
     "output_type": "stream",
     "text": [
      "5 15 25 35 45 55 65 75 85 95 "
     ]
    }
   ],
   "source": [
    "for i in range (5, 100, 10):\n",
    "    print(i, end=' ')\n"
   ]
  },
  {
   "cell_type": "code",
   "execution_count": 6,
   "metadata": {},
   "outputs": [
    {
     "name": "stdout",
     "output_type": "stream",
     "text": [
      "10 9 8 7 6 5 4 3 2 1 "
     ]
    }
   ],
   "source": [
    "for i in range(10, 0, -1):\n",
    "    print(i, end=' ')"
   ]
  },
  {
   "cell_type": "code",
   "execution_count": 7,
   "metadata": {},
   "outputs": [
    {
     "name": "stdout",
     "output_type": "stream",
     "text": [
      "12 13 14 15 16 17 18 19 "
     ]
    }
   ],
   "source": [
    "#traversal of list (each data is fetched and displayed)\n",
    "data = [12,13,14,15,16,17,18,19]\n",
    "for item in data:\n",
    "    print(item, end=' ')"
   ]
  },
  {
   "cell_type": "code",
   "execution_count": 8,
   "metadata": {},
   "outputs": [
    {
     "name": "stdout",
     "output_type": "stream",
     "text": [
      "112\n",
      "43\n",
      "65\n",
      "56\n",
      "87\n",
      "76\n",
      "74\n",
      "67\n"
     ]
    }
   ],
   "source": [
    "#break and continue\n",
    "prices = [112,43,None,65,56,None,87,76,None,74,67]\n",
    "for pr in prices:\n",
    "    if pr is None:\n",
    "        continue\n",
    "    print(pr)"
   ]
  },
  {
   "cell_type": "code",
   "execution_count": 10,
   "metadata": {},
   "outputs": [
    {
     "name": "stdout",
     "output_type": "stream",
     "text": [
      "112\n",
      "43\n",
      "65\n",
      "56\n",
      "87\n",
      "76\n",
      "74\n",
      "67\n"
     ]
    }
   ],
   "source": [
    "prices = [112,43,None,65,56,None,87,76,None,74,67]\n",
    "for pr in prices:\n",
    "    if pr is not None:\n",
    "        print(pr)"
   ]
  },
  {
   "cell_type": "code",
   "execution_count": 11,
   "metadata": {},
   "outputs": [
    {
     "name": "stdout",
     "output_type": "stream",
     "text": [
      "112\n",
      "43\n",
      "the end\n"
     ]
    }
   ],
   "source": [
    "for item in prices:\n",
    "    if item is None:\n",
    "        break\n",
    "    print(item)\n",
    "print('the end') "
   ]
  },
  {
   "cell_type": "code",
   "execution_count": 13,
   "metadata": {},
   "outputs": [
    {
     "name": "stdout",
     "output_type": "stream",
     "text": [
      "1\n",
      "1 2 3 \n",
      "2\n",
      "2 4 6 \n",
      "3\n",
      "3 6 9 \n",
      "4\n",
      "4 8 12 \n",
      "5\n",
      "5 10 15 \n"
     ]
    }
   ],
   "source": [
    "for i in range(1,6):\n",
    "    print(i)\n",
    "    for j in range(1,4):\n",
    "        print(i*j, end = ' ')\n",
    "    print() #to change line automatically\n"
   ]
  },
  {
   "cell_type": "markdown",
   "metadata": {},
   "source": [
    "1. enumerate\n",
    "2. zip\n",
    "3. for - else"
   ]
  },
  {
   "cell_type": "code",
   "execution_count": 1,
   "metadata": {},
   "outputs": [
    {
     "name": "stdout",
     "output_type": "stream",
     "text": [
      "(0, 'Radha')\n",
      "(1, 'Rohan')\n",
      "(2, 'Madhu')\n",
      "(3, 'Rajesh')\n"
     ]
    }
   ],
   "source": [
    "names = ['Radha', 'Rohan', 'Madhu', 'Rajesh']\n",
    "for name in enumerate(names):\n",
    "    print(name)"
   ]
  },
  {
   "cell_type": "code",
   "execution_count": 2,
   "metadata": {},
   "outputs": [
    {
     "name": "stdout",
     "output_type": "stream",
     "text": [
      "0 Radha\n",
      "1 Rohan\n",
      "2 Madhu\n",
      "3 Rajesh\n"
     ]
    }
   ],
   "source": [
    "#example of enumerate function\n",
    "for idx, name in enumerate(names):\n",
    "    print(idx, name)"
   ]
  },
  {
   "cell_type": "code",
   "execution_count": 3,
   "metadata": {},
   "outputs": [
    {
     "name": "stdout",
     "output_type": "stream",
     "text": [
      "1\n",
      "3\n",
      "4\n",
      "2\n",
      "5\n",
      "4\n",
      "3\n",
      "2\n",
      "5\n",
      "6\n"
     ]
    }
   ],
   "source": [
    "x = [1,3,4,2,5,4,3,2,5,6,7,3,5,3,3,4,5]\n",
    "for i, v in enumerate(x):\n",
    "    \n",
    "    if i == 10:\n",
    "        break\n",
    "    print(v)"
   ]
  },
  {
   "cell_type": "code",
   "execution_count": 4,
   "metadata": {},
   "outputs": [
    {
     "name": "stdout",
     "output_type": "stream",
     "text": [
      "(1, 7, 2)\n",
      "(2, 8, 3)\n",
      "(3, 3, 6)\n",
      "(4, 2, 6)\n"
     ]
    }
   ],
   "source": [
    "#example for zip\n",
    "x = [1,2,3,4]\n",
    "y = [7,8,3,2]\n",
    "z = [2,3,6,6]\n",
    "for i in zip(x,y,z):\n",
    "    print(i)"
   ]
  },
  {
   "cell_type": "code",
   "execution_count": 6,
   "metadata": {},
   "outputs": [
    {
     "name": "stdout",
     "output_type": "stream",
     "text": [
      "10\n",
      "13\n",
      "12\n",
      "12\n"
     ]
    }
   ],
   "source": [
    "for i,j,k in zip(x,y,z):\n",
    "    print(i+j+k)"
   ]
  },
  {
   "cell_type": "code",
   "execution_count": 7,
   "metadata": {},
   "outputs": [
    {
     "name": "stdout",
     "output_type": "stream",
     "text": [
      "(1, 7, 2)\n",
      "(2, 8, 3)\n",
      "(3, 3, 6)\n",
      "(4, 2, 6)\n"
     ]
    }
   ],
   "source": [
    "x = [1,2,3,4,3,5]\n",
    "y = [7,8,3,2,2]\n",
    "z = [2,3,6,6] #in case of uneven variables the op will be in accordance with the smallest list\n",
    "for i in zip(x,y,z):\n",
    "    print(i)"
   ]
  },
  {
   "cell_type": "markdown",
   "metadata": {},
   "source": [
    "for-else....\n",
    "for all the iterations of the loop are completed without any break statement, then the else part is executed else part is not executed if the loop is terminated by a break statement\n"
   ]
  },
  {
   "cell_type": "code",
   "execution_count": 8,
   "metadata": {},
   "outputs": [
    {
     "name": "stdout",
     "output_type": "stream",
     "text": [
      "1\n",
      "2\n",
      "3\n",
      "4\n",
      "3\n",
      "5\n",
      "completed without break\n"
     ]
    }
   ],
   "source": [
    "#example of for-else\n",
    "for i in x:\n",
    "    if i == 13:\n",
    "        break\n",
    "    print(i)\n",
    "else:\n",
    "    print(\"completed without break\")\n"
   ]
  },
  {
   "cell_type": "code",
   "execution_count": 14,
   "metadata": {},
   "outputs": [
    {
     "name": "stdout",
     "output_type": "stream",
     "text": [
      "87 % 2 = 1\n",
      "87 % 3 = 0\n",
      "Not prime\n"
     ]
    }
   ],
   "source": [
    "#for prime number\n",
    "num  = 87\n",
    "for i in range(2, num):\n",
    "    print(f'{num} % {i} = {num%i}')\n",
    "    if num%i == 0:\n",
    "        print(\"Not prime\")\n",
    "        break\n",
    "else:\n",
    "    print(\"Prime\")"
   ]
  },
  {
   "cell_type": "code",
   "execution_count": null,
   "metadata": {},
   "outputs": [],
   "source": []
  }
 ],
 "metadata": {
  "kernelspec": {
   "display_name": "base",
   "language": "python",
   "name": "python3"
  },
  "language_info": {
   "codemirror_mode": {
    "name": "ipython",
    "version": 3
   },
   "file_extension": ".py",
   "mimetype": "text/x-python",
   "name": "python",
   "nbconvert_exporter": "python",
   "pygments_lexer": "ipython3",
   "version": "3.10.10"
  },
  "orig_nbformat": 4
 },
 "nbformat": 4,
 "nbformat_minor": 2
}
