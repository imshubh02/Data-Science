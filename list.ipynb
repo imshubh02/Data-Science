{
 "cells": [
  {
   "cell_type": "markdown",
   "metadata": {},
   "source": [
    "# list\n",
    "- indexed data structure (every iten has 0,1,2,3...)\n",
    "- ordered (a,b,c,d will remain same)\n",
    "- mutable (can store, edit, replace)\n",
    "- can have duplicates\n",
    "- '[]'\n",
    "- 'list()'\n",
    "\n",
    "# tupple\n",
    "- indexed \n",
    "- ordered\n",
    "- *immutable*\n",
    "- can have duplicates\n",
    "- '()'\n",
    "- 'tuple()'\n",
    "\n",
    "# set\n",
    "- unindexed\n",
    "- unordered\n",
    "- mutable\n",
    "- *cant have duplicates*\n",
    "- '{}'\n",
    "- 'set()'\n",
    "\n",
    "# dictionary\n",
    "- unindexed\n",
    "- ordered\n",
    "- mutable\n",
    "- *key:value pairs*\n",
    "- *immutable keys*\n",
    "- {'key':'value'}\n",
    "- 'dict()'\n",
    "\n"
   ]
  },
  {
   "cell_type": "code",
   "execution_count": 1,
   "metadata": {},
   "outputs": [],
   "source": [
    "# creating list\n",
    "x = [] #empty list\n",
    "a = [1,2,3,4,5] #numeric list\n",
    "colors = ['red','green','blue'] #string list\n",
    "mixed = [1,2,'red','green', False, True, None, [1,2,3]] #mixed list\n",
    "nested_list = [[1,2,3] , [4,5,6]] #nested list"
   ]
  },
  {
   "cell_type": "code",
   "execution_count": 2,
   "metadata": {},
   "outputs": [
    {
     "name": "stdout",
     "output_type": "stream",
     "text": [
      "['A', 'l', 'e', 'x', 'a', 'n', 'd', 'e', 'r']\n"
     ]
    }
   ],
   "source": [
    "name = 'Alexander'\n",
    "charlist = list(name)\n",
    "print(charlist)"
   ]
  },
  {
   "cell_type": "code",
   "execution_count": 5,
   "metadata": {},
   "outputs": [
    {
     "name": "stdout",
     "output_type": "stream",
     "text": [
      "['red', 'green', 'blue', 'red', 'green', 'blue', 'red', 'green', 'blue']\n"
     ]
    }
   ],
   "source": [
    "# list duplication\n",
    "new = colors * 3\n",
    "print(new)"
   ]
  },
  {
   "cell_type": "code",
   "execution_count": 7,
   "metadata": {},
   "outputs": [
    {
     "name": "stdout",
     "output_type": "stream",
     "text": [
      "[1, 2, 3, 4, 5, 'red', 'green', 'blue']\n"
     ]
    }
   ],
   "source": [
    "#list concatenation\n",
    "con = a + colors\n",
    "print(con)"
   ]
  },
  {
   "cell_type": "code",
   "execution_count": 8,
   "metadata": {},
   "outputs": [
    {
     "data": {
      "text/plain": [
       "10"
      ]
     },
     "execution_count": 8,
     "metadata": {},
     "output_type": "execute_result"
    }
   ],
   "source": [
    "colors = ['red','green','blue','black','white','pink','violet','orange','brown','yellow']\n",
    "len(colors)"
   ]
  },
  {
   "cell_type": "code",
   "execution_count": 11,
   "metadata": {},
   "outputs": [
    {
     "name": "stdout",
     "output_type": "stream",
     "text": [
      "['red', 'green', 'blue', 'black', 'white']\n",
      "['orange', 'brown', 'yellow']\n",
      "['yellow', 'brown', 'orange', 'violet', 'pink', 'white', 'black', 'blue', 'green', 'red']\n"
     ]
    }
   ],
   "source": [
    "print(colors[:5])\n",
    "print(colors[-3:])\n",
    "print(colors[::-1])"
   ]
  },
  {
   "cell_type": "code",
   "execution_count": 15,
   "metadata": {},
   "outputs": [
    {
     "name": "stdout",
     "output_type": "stream",
     "text": [
      "red\n",
      "yellow\n",
      "pink\n",
      "Red\n"
     ]
    }
   ],
   "source": [
    "print(colors[0])\n",
    "print(colors[-1])\n",
    "print(colors[5])\n",
    "colors[0] = 'Red' #mutability\n",
    "print(colors[0])\n"
   ]
  },
  {
   "cell_type": "markdown",
   "metadata": {},
   "source": [
    "there are total 11 methods in a list\n",
    "- to add\n",
    "1. append()\n",
    "2. extend()\n",
    "3. insert()\n",
    "- to remove\n",
    "1. remove()\n",
    "2. pop()\n",
    "3. clear()\n",
    "- for utility\n",
    "1. reverse()\n",
    "2. sort()\n",
    "3. copy()\n",
    "4. count()\n",
    "5. index()"
   ]
  },
  {
   "cell_type": "code",
   "execution_count": 16,
   "metadata": {},
   "outputs": [],
   "source": [
    "tvshows = [] #empty list\n",
    "# append automatically ends data in the end\n",
    "tvshows.append(\"Chhota Bheem\")\n",
    "tvshows.append(\"Ben 10\")\n",
    "tvshows.append(\"Doraemon\")"
   ]
  },
  {
   "cell_type": "code",
   "execution_count": 17,
   "metadata": {},
   "outputs": [],
   "source": [
    "show = input('Enter a show name')\n",
    "tvshows.append(show)"
   ]
  },
  {
   "cell_type": "code",
   "execution_count": 18,
   "metadata": {},
   "outputs": [
    {
     "name": "stdout",
     "output_type": "stream",
     "text": [
      "['Chhota Bheem', 'Ben 10', 'Doraemon', 'Shinchan']\n"
     ]
    }
   ],
   "source": [
    "print(tvshows)"
   ]
  },
  {
   "cell_type": "code",
   "execution_count": 19,
   "metadata": {},
   "outputs": [
    {
     "name": "stdout",
     "output_type": "stream",
     "text": [
      "['Chhota Bheem', 'The Office', 'Ben 10', 'Doraemon', 'Friends', 'Shinchan']\n"
     ]
    }
   ],
   "source": [
    "tvshows.insert(1, \"The Office\")\n",
    "tvshows.insert(4, \"Friends\")\n",
    "print(tvshows)"
   ]
  },
  {
   "cell_type": "code",
   "execution_count": 20,
   "metadata": {},
   "outputs": [],
   "source": [
    "user_shows = input ('Enter your favourite shows seperated by comma:')\n",
    "user_shows = user_shows.split(',') #try using list(user_names)"
   ]
  },
  {
   "cell_type": "code",
   "execution_count": 22,
   "metadata": {},
   "outputs": [
    {
     "name": "stdout",
     "output_type": "stream",
     "text": [
      "['Chhota Bheem', 'The Office', 'Ben 10', 'Doraemon', 'Friends', 'Shinchan', 'hdhdjdj', ' iiwiw', ' heje', ' jeekw', 'hdhdjdj', ' iiwiw', ' heje', ' jeekw']\n"
     ]
    }
   ],
   "source": [
    "#extend clubs two lists into a single list\n",
    "tvshows.extend(user_shows) \n",
    "print(tvshows)"
   ]
  },
  {
   "cell_type": "code",
   "execution_count": 23,
   "metadata": {},
   "outputs": [
    {
     "name": "stdout",
     "output_type": "stream",
     "text": [
      "['Chhota Bheem', 'The Office', 'Ben 10', 'Friends', 'Shinchan', 'hdhdjdj', ' iiwiw', ' heje', ' jeekw', 'hdhdjdj', ' iiwiw', ' heje', ' jeekw']\n"
     ]
    }
   ],
   "source": [
    "#remove function is to be used with condition (if) only\n",
    "if 'Doraemon' in tvshows:\n",
    "    tvshows.remove('Doraemon') #remove an item from list\n",
    "print(tvshows)"
   ]
  },
  {
   "cell_type": "code",
   "execution_count": 24,
   "metadata": {},
   "outputs": [
    {
     "name": "stdout",
     "output_type": "stream",
     "text": [
      "Ben 10\n"
     ]
    }
   ],
   "source": [
    "# ask\n",
    "popped_value = tvshows.pop(2)\n",
    "print(popped_value)"
   ]
  },
  {
   "cell_type": "code",
   "execution_count": 29,
   "metadata": {},
   "outputs": [
    {
     "data": {
      "text/plain": [
       "' jeekw'"
      ]
     },
     "execution_count": 29,
     "metadata": {},
     "output_type": "execute_result"
    }
   ],
   "source": [
    "tvshows.pop() # pop() removes last element from the list"
   ]
  },
  {
   "cell_type": "code",
   "execution_count": 30,
   "metadata": {},
   "outputs": [
    {
     "name": "stdout",
     "output_type": "stream",
     "text": [
      "['Chhota Bheem', 'The Office', 'Friends', 'Shinchan', 'hdhdjdj', ' iiwiw', ' heje']\n"
     ]
    }
   ],
   "source": [
    "print(tvshows)"
   ]
  },
  {
   "cell_type": "code",
   "execution_count": 32,
   "metadata": {},
   "outputs": [
    {
     "name": "stdout",
     "output_type": "stream",
     "text": [
      "[]\n"
     ]
    }
   ],
   "source": [
    "tvshows.clear()\n",
    "print(tvshows)"
   ]
  },
  {
   "cell_type": "code",
   "execution_count": 33,
   "metadata": {},
   "outputs": [],
   "source": [
    "del mixed"
   ]
  },
  {
   "cell_type": "code",
   "execution_count": 34,
   "metadata": {},
   "outputs": [
    {
     "name": "stdout",
     "output_type": "stream",
     "text": [
      "[3, 3, 44, 5, 4, 3, 3, 4, 65, 6, 5, 5, 4, 3, 2, 1]\n"
     ]
    }
   ],
   "source": [
    "x = [1,2,3,4,5,5,6,65,4,3,3,4,5,44,3,3]\n",
    "x.reverse()\n",
    "print(x)"
   ]
  },
  {
   "cell_type": "code",
   "execution_count": 35,
   "metadata": {},
   "outputs": [
    {
     "name": "stdout",
     "output_type": "stream",
     "text": [
      "[1, 2, 3, 4, 5, 5, 6, 65, 4, 3, 3, 4, 5, 44, 3, 3]\n"
     ]
    }
   ],
   "source": [
    "x.reverse()\n",
    "print(x)"
   ]
  },
  {
   "cell_type": "code",
   "execution_count": 36,
   "metadata": {},
   "outputs": [
    {
     "name": "stdout",
     "output_type": "stream",
     "text": [
      "[1, 2, 3, 3, 3, 3, 3, 4, 4, 4, 5, 5, 5, 6, 44, 65]\n"
     ]
    }
   ],
   "source": [
    "x.sort() #ascending order by default\n",
    "print(x)"
   ]
  },
  {
   "cell_type": "code",
   "execution_count": 37,
   "metadata": {},
   "outputs": [
    {
     "name": "stdout",
     "output_type": "stream",
     "text": [
      "[65, 44, 6, 5, 5, 5, 4, 4, 4, 3, 3, 3, 3, 3, 2, 1]\n"
     ]
    }
   ],
   "source": [
    "x.sort(reverse = True) #to convert in descending order\n",
    "print(x)"
   ]
  },
  {
   "cell_type": "code",
   "execution_count": 38,
   "metadata": {},
   "outputs": [
    {
     "data": {
      "text/plain": [
       "5"
      ]
     },
     "execution_count": 38,
     "metadata": {},
     "output_type": "execute_result"
    }
   ],
   "source": [
    "x.count(3) #how many times 3 appears in the list"
   ]
  },
  {
   "cell_type": "code",
   "execution_count": 39,
   "metadata": {},
   "outputs": [
    {
     "data": {
      "text/plain": [
       "3"
      ]
     },
     "execution_count": 39,
     "metadata": {},
     "output_type": "execute_result"
    }
   ],
   "source": [
    "x.index(5)"
   ]
  },
  {
   "cell_type": "code",
   "execution_count": 40,
   "metadata": {},
   "outputs": [
    {
     "name": "stdout",
     "output_type": "stream",
     "text": [
      "[1, 2, 3, 4, 5, 6, 6, 7, 6, 43, 3, 2, 3, 4]\n"
     ]
    }
   ],
   "source": [
    "x = [1,2,3,4,5,6,6,7,6,43,3,2,3,4]\n",
    "print(x)"
   ]
  },
  {
   "cell_type": "code",
   "execution_count": 42,
   "metadata": {},
   "outputs": [
    {
     "name": "stdout",
     "output_type": "stream",
     "text": [
      "5\n",
      "6\n",
      "8\n"
     ]
    }
   ],
   "source": [
    "start = 0\n",
    "for i in range(x.count(6)):\n",
    "    pos = x.index(6, start)\n",
    "    start = pos + 1\n",
    "    print(pos)"
   ]
  },
  {
   "cell_type": "code",
   "execution_count": null,
   "metadata": {},
   "outputs": [],
   "source": []
  },
  {
   "cell_type": "code",
   "execution_count": null,
   "metadata": {},
   "outputs": [],
   "source": []
  }
 ],
 "metadata": {
  "kernelspec": {
   "display_name": "base",
   "language": "python",
   "name": "python3"
  },
  "language_info": {
   "codemirror_mode": {
    "name": "ipython",
    "version": 3
   },
   "file_extension": ".py",
   "mimetype": "text/x-python",
   "name": "python",
   "nbconvert_exporter": "python",
   "pygments_lexer": "ipython3",
   "version": "3.10.10"
  },
  "orig_nbformat": 4
 },
 "nbformat": 4,
 "nbformat_minor": 2
}
