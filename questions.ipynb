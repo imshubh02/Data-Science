{
 "cells": [
  {
   "cell_type": "markdown",
   "metadata": {},
   "source": [
    "WAP to find all the indexes of a search element in a given list"
   ]
  },
  {
   "cell_type": "code",
   "execution_count": 1,
   "metadata": {},
   "outputs": [],
   "source": [
    "a = [1,1,2,3,4,5,43,4,4,5,5,3,5]"
   ]
  },
  {
   "cell_type": "code",
   "execution_count": 4,
   "metadata": {},
   "outputs": [
    {
     "name": "stdout",
     "output_type": "stream",
     "text": [
      "[5, 9, 10, 12]\n"
     ]
    }
   ],
   "source": [
    "search = 5\n",
    "cnt = a.count(search)\n",
    "start = 0\n",
    "results = []\n",
    "for i in range(cnt):\n",
    "    idx = a.index(search, start)\n",
    "    start = idx + 1\n",
    "    results.append(idx)\n",
    "print(results)"
   ]
  },
  {
   "cell_type": "code",
   "execution_count": 5,
   "metadata": {},
   "outputs": [
    {
     "name": "stdout",
     "output_type": "stream",
     "text": [
      "[0, 1, 1, 2, 3, 5, 8, 13, 21, 34, 55, 89, 144, 233, 377, 610, 987]\n"
     ]
    }
   ],
   "source": [
    "#fibonacci series\n",
    "fib = [0,1]\n",
    "for i in range(15):\n",
    "    fib.append(fib[-1] + fib[-2])\n",
    "print(fib)\n"
   ]
  },
  {
   "cell_type": "code",
   "execution_count": 7,
   "metadata": {},
   "outputs": [
    {
     "name": "stdout",
     "output_type": "stream",
     "text": [
      "1 * 1 = 1\n",
      "1\n",
      "2 * 2 = 2\n",
      "2\n",
      "6 * 3 = 6\n",
      "6\n",
      "24 * 4 = 24\n",
      "24\n",
      "120 * 5 = 120\n",
      "120\n"
     ]
    }
   ],
   "source": [
    "#factorial\n",
    "num = 5\n",
    "f = 1\n",
    "for i in range(1, num+1):\n",
    "    f = f * i\n",
    "    print(f\"{f} * {i} = {f}\")\n",
    "    print(f)"
   ]
  },
  {
   "cell_type": "code",
   "execution_count": 10,
   "metadata": {},
   "outputs": [
    {
     "name": "stdout",
     "output_type": "stream",
     "text": [
      "['blue', 'white', 'purple', 'orange']\n"
     ]
    }
   ],
   "source": [
    "#filter\n",
    "colors = ['red','green','blue','yellow',\n",
    "          'white','black','pink','purple',\n",
    "          'orange','brown','gray','cyan']\n",
    "colors_with_n = []\n",
    "for c in colors:\n",
    "    if c.endswith('e'):\n",
    "        colors_with_n.append(c)\n",
    "print(colors_with_n)"
   ]
  },
  {
   "cell_type": "code",
   "execution_count": 11,
   "metadata": {},
   "outputs": [
    {
     "name": "stdout",
     "output_type": "stream",
     "text": [
      "['red', 'green', 'blue', 'yellow', 'white', 'black', 'purple', 'orange', 'gray', 'cyan']\n"
     ]
    }
   ],
   "source": [
    "colors_with_ane = []\n",
    "for c in colors:\n",
    "    if 'a' in c or 'e' in c:\n",
    "        colors_with_ane.append(c)\n",
    "print(colors_with_ane)"
   ]
  },
  {
   "cell_type": "code",
   "execution_count": 22,
   "metadata": {},
   "outputs": [
    {
     "name": "stdout",
     "output_type": "stream",
     "text": [
      "['pink', 'brown']\n"
     ]
    }
   ],
   "source": [
    "colors_with_ane = []\n",
    "for c in colors:\n",
    "    if not('a' in c or 'e' in c):\n",
    "        colors_with_ane.append(c)\n",
    "print(colors_with_ane)"
   ]
  },
  {
   "cell_type": "code",
   "execution_count": 12,
   "metadata": {},
   "outputs": [
    {
     "name": "stdout",
     "output_type": "stream",
     "text": [
      "[3, 4, 5, 6, 7, 8, 9, 10, 11, 12]\n"
     ]
    }
   ],
   "source": [
    "#mapping\n",
    "a = [1,2,3,4,5,6,7,8,9,10]\n",
    "a2 = []\n",
    "for num in a:\n",
    "    a2.append(num + 2)\n",
    "print(a2)\n"
   ]
  },
  {
   "cell_type": "code",
   "execution_count": 15,
   "metadata": {},
   "outputs": [
    {
     "name": "stdout",
     "output_type": "stream",
     "text": [
      "[1, 4, 9, 16, 25, 36, 49, 64, 81, 100]\n"
     ]
    }
   ],
   "source": [
    "#square\n",
    "a = [1,2,3,4,5,6,7,8,9,10]\n",
    "a2 = []\n",
    "for num in a:\n",
    "    a2.append(num**2) #power of 2\n",
    "print(a2)"
   ]
  },
  {
   "cell_type": "code",
   "execution_count": 18,
   "metadata": {},
   "outputs": [
    {
     "name": "stdout",
     "output_type": "stream",
     "text": [
      "[4, 16, 36, 64, 100]\n"
     ]
    }
   ],
   "source": [
    "#even_no_square\n",
    "a = [1,2,3,4,5,6,7,8,9,10]\n",
    "a2 = []\n",
    "for num in a:\n",
    "    if(num % 2 == 0):\n",
    "        a2.append(num**2) #power of 2\n",
    "print(a2)"
   ]
  },
  {
   "cell_type": "code",
   "execution_count": 20,
   "metadata": {},
   "outputs": [
    {
     "name": "stdout",
     "output_type": "stream",
     "text": [
      "A K\n",
      "V S\n",
      "R K\n",
      "R S\n",
      "H P\n",
      "A G\n"
     ]
    }
   ],
   "source": [
    "full_names = ['Amar Kumar','Vijay Singh',\n",
    "              'Rajesh Kumar','Rajesh Singh',\n",
    "              'Harish Pandey','Ajay Kumar Garg']\n",
    "short_names = []\n",
    "for nm in full_names:\n",
    "    word = (nm.split())\n",
    "    print(word[0][0], word[-1][0])\n",
    "    \n",
    "    "
   ]
  },
  {
   "cell_type": "code",
   "execution_count": 21,
   "metadata": {},
   "outputs": [
    {
     "name": "stdout",
     "output_type": "stream",
     "text": [
      "['AK', 'VS', 'RK', 'RS', 'HP', 'AG']\n"
     ]
    }
   ],
   "source": [
    "for nm in full_names:\n",
    "    word = (nm.split())\n",
    "    short_names.append(word[0][0] + word[-1][0])\n",
    "print(short_names)"
   ]
  },
  {
   "cell_type": "code",
   "execution_count": null,
   "metadata": {},
   "outputs": [],
   "source": []
  }
 ],
 "metadata": {
  "kernelspec": {
   "display_name": "base",
   "language": "python",
   "name": "python3"
  },
  "language_info": {
   "codemirror_mode": {
    "name": "ipython",
    "version": 3
   },
   "file_extension": ".py",
   "mimetype": "text/x-python",
   "name": "python",
   "nbconvert_exporter": "python",
   "pygments_lexer": "ipython3",
   "version": "3.10.10"
  },
  "orig_nbformat": 4
 },
 "nbformat": 4,
 "nbformat_minor": 2
}
