{
 "cells": [
  {
   "cell_type": "code",
   "execution_count": 1,
   "metadata": {},
   "outputs": [],
   "source": [
    "book = {\n",
    "    'title': 'The Final Empire',\n",
    "    'author': 'Brandon Sanderson',\n",
    "    'price': 1499,\n",
    "    'publisher': 'Tor Books',\n",
    "    'year': 2006,\n",
    "    'pages': 541,\n",
    "    'languages': ['english','french','spanish']\n",
    "}"
   ]
  },
  {
   "cell_type": "code",
   "execution_count": 3,
   "metadata": {},
   "outputs": [
    {
     "name": "stdout",
     "output_type": "stream",
     "text": [
      "{'title': 'The Final Empire', 'author': 'Brandon Sanderson', 'price': 1499, 'publisher': 'Tor Books', 'year': 2006, 'pages': 541, 'languages': ['english', 'french', 'spanish'], 'rating': 4.5, 'type': 'paperback'}\n"
     ]
    }
   ],
   "source": [
    "book['rating'] = 4.5\n",
    "book['type'] = 'paperback'\n",
    "print(book)"
   ]
  },
  {
   "cell_type": "code",
   "execution_count": 4,
   "metadata": {},
   "outputs": [
    {
     "data": {
      "text/plain": [
       "541"
      ]
     },
     "execution_count": 4,
     "metadata": {},
     "output_type": "execute_result"
    }
   ],
   "source": [
    "book['pages']"
   ]
  },
  {
   "cell_type": "code",
   "execution_count": 5,
   "metadata": {},
   "outputs": [
    {
     "ename": "KeyError",
     "evalue": "'website'",
     "output_type": "error",
     "traceback": [
      "\u001b[1;31m---------------------------------------------------------------------------\u001b[0m",
      "\u001b[1;31mKeyError\u001b[0m                                  Traceback (most recent call last)",
      "Cell \u001b[1;32mIn[5], line 1\u001b[0m\n\u001b[1;32m----> 1\u001b[0m book[\u001b[39m'\u001b[39;49m\u001b[39mwebsite\u001b[39;49m\u001b[39m'\u001b[39;49m]\n",
      "\u001b[1;31mKeyError\u001b[0m: 'website'"
     ]
    }
   ],
   "source": [
    "book['website'] #key error = key not present in the list"
   ]
  },
  {
   "cell_type": "code",
   "execution_count": 15,
   "metadata": {},
   "outputs": [
    {
     "data": {
      "text/plain": [
       "2006"
      ]
     },
     "execution_count": 15,
     "metadata": {},
     "output_type": "execute_result"
    }
   ],
   "source": [
    "book.pop('year')"
   ]
  },
  {
   "cell_type": "code",
   "execution_count": 18,
   "metadata": {},
   "outputs": [
    {
     "data": {
      "text/plain": [
       "{'title': 'The Final Empire',\n",
       " 'author': 'Brandon Sanderson',\n",
       " 'price': 1499,\n",
       " 'publisher': 'Tor Books',\n",
       " 'languages': ['english', 'french', 'spanish'],\n",
       " 'rating': 4.5,\n",
       " 'type': 'paperback'}"
      ]
     },
     "execution_count": 18,
     "metadata": {},
     "output_type": "execute_result"
    }
   ],
   "source": [
    "book"
   ]
  },
  {
   "cell_type": "code",
   "execution_count": 19,
   "metadata": {},
   "outputs": [
    {
     "data": {
      "text/plain": [
       "['title', 'author', 'price', 'publisher', 'languages', 'rating', 'type']"
      ]
     },
     "execution_count": 19,
     "metadata": {},
     "output_type": "execute_result"
    }
   ],
   "source": [
    "list(book.keys())"
   ]
  },
  {
   "cell_type": "code",
   "execution_count": 20,
   "metadata": {},
   "outputs": [
    {
     "data": {
      "text/plain": [
       "['The Final Empire',\n",
       " 'Brandon Sanderson',\n",
       " 1499,\n",
       " 'Tor Books',\n",
       " ['english', 'french', 'spanish'],\n",
       " 4.5,\n",
       " 'paperback']"
      ]
     },
     "execution_count": 20,
     "metadata": {},
     "output_type": "execute_result"
    }
   ],
   "source": [
    "list(book.values())"
   ]
  },
  {
   "cell_type": "code",
   "execution_count": 21,
   "metadata": {},
   "outputs": [
    {
     "data": {
      "text/plain": [
       "[('title', 'The Final Empire'),\n",
       " ('author', 'Brandon Sanderson'),\n",
       " ('price', 1499),\n",
       " ('publisher', 'Tor Books'),\n",
       " ('languages', ['english', 'french', 'spanish']),\n",
       " ('rating', 4.5),\n",
       " ('type', 'paperback')]"
      ]
     },
     "execution_count": 21,
     "metadata": {},
     "output_type": "execute_result"
    }
   ],
   "source": [
    "list(book.items())"
   ]
  },
  {
   "cell_type": "code",
   "execution_count": 22,
   "metadata": {},
   "outputs": [
    {
     "data": {
      "text/plain": [
       "'Tor Books'"
      ]
     },
     "execution_count": 22,
     "metadata": {},
     "output_type": "execute_result"
    }
   ],
   "source": [
    "book.get('publisher')"
   ]
  },
  {
   "cell_type": "code",
   "execution_count": 23,
   "metadata": {},
   "outputs": [
    {
     "data": {
      "text/plain": [
       "'Tor Books'"
      ]
     },
     "execution_count": 23,
     "metadata": {},
     "output_type": "execute_result"
    }
   ],
   "source": [
    "book.get('publisher', 'not found')"
   ]
  },
  {
   "cell_type": "code",
   "execution_count": 24,
   "metadata": {},
   "outputs": [
    {
     "data": {
      "text/plain": [
       "'not found'"
      ]
     },
     "execution_count": 24,
     "metadata": {},
     "output_type": "execute_result"
    }
   ],
   "source": [
    "book.get('Publisher', 'not found')"
   ]
  },
  {
   "cell_type": "code",
   "execution_count": 25,
   "metadata": {},
   "outputs": [
    {
     "name": "stdout",
     "output_type": "stream",
     "text": [
      "{'jhss': 6.0, 'hgff': 5.0, 'f': 5.6}\n"
     ]
    }
   ],
   "source": [
    "myrating = {}\n",
    "for i in range(1,4):\n",
    "    name = input(f'enter the name of movie {i}:')\n",
    "    rating = float(input(f'enter the rating of the movie {i}:'))\n",
    "    myrating[name] = rating\n",
    "\n",
    "print(myrating)"
   ]
  },
  {
   "cell_type": "code",
   "execution_count": 30,
   "metadata": {},
   "outputs": [
    {
     "name": "stdout",
     "output_type": "stream",
     "text": [
      "jhss\n",
      "hgff\n",
      "f\n",
      "----------------------------------------\n",
      "jhss 6.0\n",
      "hgff 5.0\n",
      "f 5.6\n",
      "----------------------------------------\n",
      "jhss 6.0\n",
      "hgff 5.0\n",
      "f 5.6\n"
     ]
    }
   ],
   "source": [
    "for i in myrating:\n",
    "    print(i) #only keys\n",
    "\n",
    "print('----' * 10)\n",
    "for i in myrating:\n",
    "    print(i, myrating[i]) # both keys and values\n",
    "\n",
    "print('----' * 10)\n",
    "for k,v in myrating.items():\n",
    "    print(k,v) #both keys and values"
   ]
  },
  {
   "cell_type": "code",
   "execution_count": 31,
   "metadata": {},
   "outputs": [],
   "source": [
    "# Nested Dictionary\n",
    "books = {\n",
    "    \"book1\": {\n",
    "        'title': 'The Final Empire',\n",
    "        'author': 'Brandon Sanderson',\n",
    "        'price': 1499,\n",
    "        \n",
    "    },\n",
    "    'book2': {\n",
    "        'title': 'The Well of Ascension',\n",
    "        'author': 'Brandon Sanderson',\n",
    "        'price': 1699,\n",
    "        'publisher': 'Tor Books',\n",
    "    },\n",
    "    'book3': {\n",
    "        'title': 'The Hero of Ages',\n",
    "        'author': 'Brandon Sanderson',\n",
    "        'price': 1799,\n",
    "    }\n",
    "}\n",
    "\n",
    "\n",
    "    "
   ]
  },
  {
   "cell_type": "code",
   "execution_count": 32,
   "metadata": {},
   "outputs": [
    {
     "name": "stdout",
     "output_type": "stream",
     "text": [
      "book1\n",
      "\ttitle = The Final Empire\n",
      "\tauthor = Brandon Sanderson\n",
      "\tprice = 1499\n",
      "book2\n",
      "\ttitle = The Well of Ascension\n",
      "\tauthor = Brandon Sanderson\n",
      "\tprice = 1699\n",
      "\tpublisher = Tor Books\n",
      "book3\n",
      "\ttitle = The Hero of Ages\n",
      "\tauthor = Brandon Sanderson\n",
      "\tprice = 1799\n"
     ]
    }
   ],
   "source": [
    "for name, detail in books.items():\n",
    "    print(name)\n",
    "    for k, v in detail.items():\n",
    "        print(f\"\\t{k} = {v}\")\n"
   ]
  },
  {
   "cell_type": "code",
   "execution_count": 33,
   "metadata": {},
   "outputs": [
    {
     "name": "stdout",
     "output_type": "stream",
     "text": [
      "book3 {'title': 'The Hero of Ages', 'author': 'Brandon Sanderson', 'price': 1799}\n"
     ]
    }
   ],
   "source": [
    "query = 'The Hero of Ages'\n",
    "for name, detail in books.items():\n",
    "    if query in detail['title']:\n",
    "        print(name, detail)"
   ]
  },
  {
   "cell_type": "markdown",
   "metadata": {},
   "source": [
    "ques - wap to create a dictioanry that store numbers and their squares"
   ]
  },
  {
   "cell_type": "code",
   "execution_count": 36,
   "metadata": {},
   "outputs": [],
   "source": [
    "numbers = {\n",
    "    \"num1\": {\n",
    "        'num': 2,\n",
    "        'square': 4,\n",
    "\n",
    "    },\n",
    "    \"num2\": {\n",
    "        'num': 3,\n",
    "        'square': 9,\n",
    "    }\n",
    "}"
   ]
  },
  {
   "cell_type": "code",
   "execution_count": 38,
   "metadata": {},
   "outputs": [
    {
     "name": "stdout",
     "output_type": "stream",
     "text": [
      "num1\n",
      "\tnum = 2\n",
      "\tsquare = 4\n",
      "num2\n",
      "\tnum = 3\n",
      "\tsquare = 9\n"
     ]
    }
   ],
   "source": [
    "for number,sq in numbers.items():\n",
    "    print(number)\n",
    "    for k,v in sq.items():\n",
    "        print(f\"\\t{k} = {v}\")\n",
    "\n",
    "    "
   ]
  },
  {
   "cell_type": "markdown",
   "metadata": {},
   "source": [
    "ques 2 - wap to ask user to enter item and its price and then store it in a dictionary, the program shoulld stop when user wants...hint- while loop"
   ]
  },
  {
   "cell_type": "code",
   "execution_count": 41,
   "metadata": {},
   "outputs": [
    {
     "name": "stdout",
     "output_type": "stream",
     "text": [
      "{'jfjf': 45, 'ff': 45}\n"
     ]
    }
   ],
   "source": [
    "myprog = {}\n",
    "while True:\n",
    "    it = input(f'enter item {i}:')\n",
    "    if not it:\n",
    "        break\n",
    "    pr = int(input(f'enter the price of the item {i}:'))\n",
    "    myprog[it] = pr\n",
    "\n",
    "print(myprog)"
   ]
  },
  {
   "cell_type": "code",
   "execution_count": null,
   "metadata": {},
   "outputs": [],
   "source": []
  }
 ],
 "metadata": {
  "kernelspec": {
   "display_name": "base",
   "language": "python",
   "name": "python3"
  },
  "language_info": {
   "codemirror_mode": {
    "name": "ipython",
    "version": 3
   },
   "file_extension": ".py",
   "mimetype": "text/x-python",
   "name": "python",
   "nbconvert_exporter": "python",
   "pygments_lexer": "ipython3",
   "version": "3.10.10"
  },
  "orig_nbformat": 4
 },
 "nbformat": 4,
 "nbformat_minor": 2
}
